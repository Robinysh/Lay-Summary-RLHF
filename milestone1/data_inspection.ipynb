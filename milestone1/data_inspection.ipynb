{
 "cells": [
  {
   "cell_type": "markdown",
   "metadata": {},
   "source": [
    "## COLX 531: BioLaySumm 2024\n",
    "## Team Burrito"
   ]
  },
  {
   "cell_type": "markdown",
   "metadata": {},
   "source": [
    "### Milestone 1 Data Inspection"
   ]
  },
  {
   "cell_type": "code",
   "execution_count": 2,
   "metadata": {},
   "outputs": [],
   "source": [
    "# import relevant libraries\n",
    "import pandas as pd\n",
    "from nltk.tokenize import word_tokenize"
   ]
  },
  {
   "cell_type": "markdown",
   "metadata": {},
   "source": [
    "### Data loading"
   ]
  },
  {
   "cell_type": "code",
   "execution_count": 3,
   "metadata": {},
   "outputs": [],
   "source": [
    "# define paths to eLife and PLOS datasets\n",
    "DATA_FOLDER = \"../data/\"\n",
    "FILES = [\n",
    "    \"eLife_train\",\n",
    "    \"eLife_val\",\n",
    "    \"eLife_test\",\n",
    "    \"PLOS_train\",\n",
    "    \"PLOS_val\",\n",
    "    \"PLOS_test\",\n",
    "]"
   ]
  },
  {
   "cell_type": "code",
   "execution_count": 4,
   "metadata": {},
   "outputs": [
    {
     "name": "stdout",
     "output_type": "stream",
     "text": [
      "../data/eLife_train.jsonl\n",
      "../data/eLife_val.jsonl\n",
      "../data/eLife_test.jsonl\n",
      "../data/PLOS_train.jsonl\n",
      "../data/PLOS_val.jsonl\n",
      "../data/PLOS_test.jsonl\n"
     ]
    }
   ],
   "source": [
    "# load files\n",
    "data_dict = {}\n",
    "for i, f in enumerate(FILES):\n",
    "    file_path = DATA_FOLDER + f + \".jsonl\"\n",
    "    print(file_path)\n",
    "    data_dict[f] = pd.read_json(file_path, lines=True)"
   ]
  },
  {
   "cell_type": "markdown",
   "metadata": {},
   "source": [
    "### Examples"
   ]
  },
  {
   "cell_type": "code",
   "execution_count": 5,
   "metadata": {},
   "outputs": [
    {
     "data": {
      "text/html": [
       "<div>\n",
       "<style scoped>\n",
       "    .dataframe tbody tr th:only-of-type {\n",
       "        vertical-align: middle;\n",
       "    }\n",
       "\n",
       "    .dataframe tbody tr th {\n",
       "        vertical-align: top;\n",
       "    }\n",
       "\n",
       "    .dataframe thead th {\n",
       "        text-align: right;\n",
       "    }\n",
       "</style>\n",
       "<table border=\"1\" class=\"dataframe\">\n",
       "  <thead>\n",
       "    <tr style=\"text-align: right;\">\n",
       "      <th></th>\n",
       "      <th>lay_summary</th>\n",
       "      <th>article</th>\n",
       "      <th>headings</th>\n",
       "      <th>keywords</th>\n",
       "      <th>id</th>\n",
       "    </tr>\n",
       "  </thead>\n",
       "  <tbody>\n",
       "    <tr>\n",
       "      <th>0</th>\n",
       "      <td>In the USA , more deaths happen in the winter ...</td>\n",
       "      <td>In temperate climates , winter deaths exceed s...</td>\n",
       "      <td>[Abstract, Introduction, Results, Discussion, ...</td>\n",
       "      <td>[epidemiology and global health]</td>\n",
       "      <td>elife-35500-v1</td>\n",
       "    </tr>\n",
       "    <tr>\n",
       "      <th>1</th>\n",
       "      <td>Most people have likely experienced the discom...</td>\n",
       "      <td>Whether complement dysregulation directly cont...</td>\n",
       "      <td>[Abstract, Introduction, Results, Discussion, ...</td>\n",
       "      <td>[microbiology and infectious disease, immunolo...</td>\n",
       "      <td>elife-48378-v2</td>\n",
       "    </tr>\n",
       "    <tr>\n",
       "      <th>2</th>\n",
       "      <td>The immune system protects an individual from ...</td>\n",
       "      <td>Variation in the presentation of hereditary im...</td>\n",
       "      <td>[Abstract, Introduction, Results, Discussion, ...</td>\n",
       "      <td>[microbiology and infectious disease, immunolo...</td>\n",
       "      <td>elife-04494-v1</td>\n",
       "    </tr>\n",
       "    <tr>\n",
       "      <th>3</th>\n",
       "      <td>The brain adapts to control our behavior in di...</td>\n",
       "      <td>Rapid and flexible interpretation of conflicti...</td>\n",
       "      <td>[Abstract, Introduction, Results, Discussion, ...</td>\n",
       "      <td>[neuroscience]</td>\n",
       "      <td>elife-12352-v2</td>\n",
       "    </tr>\n",
       "    <tr>\n",
       "      <th>4</th>\n",
       "      <td>Cells use motor proteins that to move organell...</td>\n",
       "      <td>Myosin 5a is a dual-headed molecular motor tha...</td>\n",
       "      <td>[Abstract, Introduction, Results, Discussion, ...</td>\n",
       "      <td>[structural biology and molecular biophysics]</td>\n",
       "      <td>elife-05413-v2</td>\n",
       "    </tr>\n",
       "  </tbody>\n",
       "</table>\n",
       "</div>"
      ],
      "text/plain": [
       "                                         lay_summary  \\\n",
       "0  In the USA , more deaths happen in the winter ...   \n",
       "1  Most people have likely experienced the discom...   \n",
       "2  The immune system protects an individual from ...   \n",
       "3  The brain adapts to control our behavior in di...   \n",
       "4  Cells use motor proteins that to move organell...   \n",
       "\n",
       "                                             article  \\\n",
       "0  In temperate climates , winter deaths exceed s...   \n",
       "1  Whether complement dysregulation directly cont...   \n",
       "2  Variation in the presentation of hereditary im...   \n",
       "3  Rapid and flexible interpretation of conflicti...   \n",
       "4  Myosin 5a is a dual-headed molecular motor tha...   \n",
       "\n",
       "                                            headings  \\\n",
       "0  [Abstract, Introduction, Results, Discussion, ...   \n",
       "1  [Abstract, Introduction, Results, Discussion, ...   \n",
       "2  [Abstract, Introduction, Results, Discussion, ...   \n",
       "3  [Abstract, Introduction, Results, Discussion, ...   \n",
       "4  [Abstract, Introduction, Results, Discussion, ...   \n",
       "\n",
       "                                            keywords              id  \n",
       "0                   [epidemiology and global health]  elife-35500-v1  \n",
       "1  [microbiology and infectious disease, immunolo...  elife-48378-v2  \n",
       "2  [microbiology and infectious disease, immunolo...  elife-04494-v1  \n",
       "3                                     [neuroscience]  elife-12352-v2  \n",
       "4      [structural biology and molecular biophysics]  elife-05413-v2  "
      ]
     },
     "execution_count": 5,
     "metadata": {},
     "output_type": "execute_result"
    }
   ],
   "source": [
    "data_dict[\"eLife_train\"].head()"
   ]
  },
  {
   "cell_type": "code",
   "execution_count": 6,
   "metadata": {},
   "outputs": [
    {
     "data": {
      "text/html": [
       "<div>\n",
       "<style scoped>\n",
       "    .dataframe tbody tr th:only-of-type {\n",
       "        vertical-align: middle;\n",
       "    }\n",
       "\n",
       "    .dataframe tbody tr th {\n",
       "        vertical-align: top;\n",
       "    }\n",
       "\n",
       "    .dataframe thead th {\n",
       "        text-align: right;\n",
       "    }\n",
       "</style>\n",
       "<table border=\"1\" class=\"dataframe\">\n",
       "  <thead>\n",
       "    <tr style=\"text-align: right;\">\n",
       "      <th></th>\n",
       "      <th>lay_summary</th>\n",
       "      <th>article</th>\n",
       "      <th>headings</th>\n",
       "      <th>keywords</th>\n",
       "      <th>id</th>\n",
       "    </tr>\n",
       "  </thead>\n",
       "  <tbody>\n",
       "    <tr>\n",
       "      <th>0</th>\n",
       "      <td>In the kidney , structures known as nephrons a...</td>\n",
       "      <td>Kidney function depends on the nephron , which...</td>\n",
       "      <td>[Abstract, Introduction, Results, Discussion, ...</td>\n",
       "      <td>[developmental biology, danio (zebrafish), ver...</td>\n",
       "      <td>journal.pgen.0030189</td>\n",
       "    </tr>\n",
       "    <tr>\n",
       "      <th>1</th>\n",
       "      <td>Many species of bats in North America have bee...</td>\n",
       "      <td>White-nose syndrome is one of the most lethal ...</td>\n",
       "      <td>[Abstract, Introduction, Results, Discussion, ...</td>\n",
       "      <td>[sequencing techniques, fungal spores, vertebr...</td>\n",
       "      <td>journal.ppat.1006076</td>\n",
       "    </tr>\n",
       "    <tr>\n",
       "      <th>2</th>\n",
       "      <td>The burden of dengue has been increasing over ...</td>\n",
       "      <td>Sustainable dengue intervention requires the p...</td>\n",
       "      <td>[Abstract, Introduction, Methods, Results, Dis...</td>\n",
       "      <td>[invertebrates, medicine and health sciences, ...</td>\n",
       "      <td>journal.pntd.0007498</td>\n",
       "    </tr>\n",
       "    <tr>\n",
       "      <th>3</th>\n",
       "      <td>Estrogen exposure is the most important risk f...</td>\n",
       "      <td>Despite the central role of estrogen exposure ...</td>\n",
       "      <td>[Abstract, Introduction, Results, Discussion, ...</td>\n",
       "      <td>[oncology/breast cancer, oncology/gynecologica...</td>\n",
       "      <td>journal.pgen.1001012</td>\n",
       "    </tr>\n",
       "    <tr>\n",
       "      <th>4</th>\n",
       "      <td>Melioidosis is a severe tropical infection cau...</td>\n",
       "      <td>Macrophage migration inhibitory factor ( MIF )...</td>\n",
       "      <td>[Abstract, Introduction, Methods, Results, Dis...</td>\n",
       "      <td>[immunology/cellular microbiology and pathogen...</td>\n",
       "      <td>journal.pntd.0000605</td>\n",
       "    </tr>\n",
       "  </tbody>\n",
       "</table>\n",
       "</div>"
      ],
      "text/plain": [
       "                                         lay_summary  \\\n",
       "0  In the kidney , structures known as nephrons a...   \n",
       "1  Many species of bats in North America have bee...   \n",
       "2  The burden of dengue has been increasing over ...   \n",
       "3  Estrogen exposure is the most important risk f...   \n",
       "4  Melioidosis is a severe tropical infection cau...   \n",
       "\n",
       "                                             article  \\\n",
       "0  Kidney function depends on the nephron , which...   \n",
       "1  White-nose syndrome is one of the most lethal ...   \n",
       "2  Sustainable dengue intervention requires the p...   \n",
       "3  Despite the central role of estrogen exposure ...   \n",
       "4  Macrophage migration inhibitory factor ( MIF )...   \n",
       "\n",
       "                                            headings  \\\n",
       "0  [Abstract, Introduction, Results, Discussion, ...   \n",
       "1  [Abstract, Introduction, Results, Discussion, ...   \n",
       "2  [Abstract, Introduction, Methods, Results, Dis...   \n",
       "3  [Abstract, Introduction, Results, Discussion, ...   \n",
       "4  [Abstract, Introduction, Methods, Results, Dis...   \n",
       "\n",
       "                                            keywords                    id  \n",
       "0  [developmental biology, danio (zebrafish), ver...  journal.pgen.0030189  \n",
       "1  [sequencing techniques, fungal spores, vertebr...  journal.ppat.1006076  \n",
       "2  [invertebrates, medicine and health sciences, ...  journal.pntd.0007498  \n",
       "3  [oncology/breast cancer, oncology/gynecologica...  journal.pgen.1001012  \n",
       "4  [immunology/cellular microbiology and pathogen...  journal.pntd.0000605  "
      ]
     },
     "execution_count": 6,
     "metadata": {},
     "output_type": "execute_result"
    }
   ],
   "source": [
    "data_dict[\"PLOS_train\"].head()"
   ]
  },
  {
   "cell_type": "markdown",
   "metadata": {},
   "source": [
    "### Descriptive statistics"
   ]
  },
  {
   "cell_type": "code",
   "execution_count": 7,
   "metadata": {},
   "outputs": [],
   "source": [
    "# mapping of files to cleaned names\n",
    "name_mapping = {}\n",
    "for i, f in enumerate(FILES):\n",
    "    name_mapping[f] = f\"{i + 1}. {f.replace('_', ' ')}\""
   ]
  },
  {
   "cell_type": "code",
   "execution_count": 8,
   "metadata": {},
   "outputs": [],
   "source": [
    "# calculate word count metrics using NLTK's word_tokenize for both lay summary and full text\n",
    "df_list = []\n",
    "for k, df in data_dict.items():\n",
    "    length_stats = []\n",
    "    cols = (\n",
    "        [\"article\"] if k in [\"eLife_test\", \"PLOS_test\"] else [\n",
    "            \"lay_summary\", \"article\"]\n",
    "    )\n",
    "    for col in df[cols]:\n",
    "        length = df[col].apply(lambda x: len(word_tokenize(x)))\n",
    "        length_stats.append(length.agg([\"count\", \"min\", \"mean\", \"max\"]))\n",
    "    stats_df = pd.DataFrame(length_stats)\n",
    "    df_list.append(stats_df)"
   ]
  },
  {
   "cell_type": "code",
   "execution_count": 18,
   "metadata": {},
   "outputs": [],
   "source": [
    "# eLife and PLOS word metrics\n",
    "def create_table(df_list, start_index, end_index, name_mapping):\n",
    "    table = (\n",
    "        pd.concat(\n",
    "            df_list[start_index:end_index],\n",
    "            axis=0,\n",
    "            keys=list(name_mapping.values())[start_index:end_index],\n",
    "        )\n",
    "        .sort_index(level=[1, 0])\n",
    "        .reset_index(names=[\"dataset\", \"text\"])\n",
    "    ).style.format(decimal=\".\", thousands=\",\", precision=0)\n",
    "    return table"
   ]
  },
  {
   "cell_type": "code",
   "execution_count": 19,
   "metadata": {},
   "outputs": [],
   "source": [
    "# eLife metrics\n",
    "elife_df = create_table(df_list, 0, 3, name_mapping)\n",
    "# PLOS metrics\n",
    "plos_df = create_table(df_list, 3, 6, name_mapping)"
   ]
  },
  {
   "cell_type": "markdown",
   "metadata": {},
   "source": [
    "### Convert table to latex "
   ]
  },
  {
   "cell_type": "code",
   "execution_count": 20,
   "metadata": {},
   "outputs": [
    {
     "name": "stdout",
     "output_type": "stream",
     "text": [
      "\\begin{tabular}{lllrrrr}\n",
      " & dataset & text & count & min & mean & max \\\\\n",
      "0 & 1. eLife train & article & 4,346 & 329 & 10,428 & 29,653 \\\\\n",
      "1 & 2. eLife val & article & 241 & 3,459 & 10,254 & 23,462 \\\\\n",
      "2 & 3. eLife test & article & 142 & 2,551 & 9,094 & 17,220 \\\\\n",
      "3 & 1. eLife train & lay_summary & 4,346 & 180 & 386 & 688 \\\\\n",
      "4 & 2. eLife val & lay_summary & 241 & 237 & 394 & 679 \\\\\n",
      "\\end{tabular}\n",
      "\n"
     ]
    }
   ],
   "source": [
    "print(elife_df.to_latex())"
   ]
  },
  {
   "cell_type": "code",
   "execution_count": 22,
   "metadata": {},
   "outputs": [
    {
     "name": "stdout",
     "output_type": "stream",
     "text": [
      "\\begin{tabular}{lllrrrr}\n",
      " & dataset & text & count & min & mean & max \\\\\n",
      "0 & 4. PLOS train & article & 24,773 & 762 & 6,981 & 27,378 \\\\\n",
      "1 & 5. PLOS val & article & 1,376 & 774 & 6,968 & 20,999 \\\\\n",
      "2 & 6. PLOS test & article & 142 & 1,631 & 7,145 & 18,850 \\\\\n",
      "3 & 4. PLOS train & lay_summary & 24,773 & 4 & 196 & 523 \\\\\n",
      "4 & 5. PLOS val & lay_summary & 1,376 & 55 & 196 & 385 \\\\\n",
      "\\end{tabular}\n",
      "\n"
     ]
    }
   ],
   "source": [
    "print(plos_df.to_latex())"
   ]
  }
 ],
 "metadata": {
  "kernelspec": {
   "display_name": "base",
   "language": "python",
   "name": "python3"
  },
  "language_info": {
   "codemirror_mode": {
    "name": "ipython",
    "version": 3
   },
   "file_extension": ".py",
   "mimetype": "text/x-python",
   "name": "python",
   "nbconvert_exporter": "python",
   "pygments_lexer": "ipython3",
   "version": "3.11.4"
  }
 },
 "nbformat": 4,
 "nbformat_minor": 2
}
