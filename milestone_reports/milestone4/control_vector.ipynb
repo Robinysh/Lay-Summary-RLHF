{
 "cells": [
  {
   "cell_type": "code",
   "execution_count": 2,
   "id": "00b427ab-79fe-449b-bcd5-67465a2952a0",
   "metadata": {},
   "outputs": [
    {
     "name": "stderr",
     "output_type": "stream",
     "text": [
      "You have loaded an AWQ model on CPU and have a CUDA device available, make sure to set your model on a GPU device in order to run your model.\n"
     ]
    }
   ],
   "source": [
    "import json\n",
    "import pandas as pd\n",
    "import torch\n",
    "from transformers import AutoModelForCausalLM, AutoTokenizer\n",
    "\n",
    "from repeng import ControlVector, ControlModel, DatasetEntry\n",
    "\n",
    "model_name = \"BioMistral/BioMistral-7B-DARE-AWQ-QGS128-W4-GEMM\"\n",
    "\n",
    "tokenizer = AutoTokenizer.from_pretrained(model_name)\n",
    "tokenizer.pad_token_id = 0\n",
    "\n",
    "model = AutoModelForCausalLM.from_pretrained(model_name, torch_dtype=torch.float16)\n",
    "model = model.to(\"cuda:0\" if torch.cuda.is_available() else \"cpu\")\n",
    "#  wrap it in a ControlModel for later.\n",
    "model = ControlModel(model, list(range(-5, -18, -1)))\n",
    "\n",
    "user_tag, asst_tag = \"[INST]\", \"[/INST]\""
   ]
  },
  {
   "cell_type": "markdown",
   "id": "6b50ab5f-24d0-4633-8a50-fd89de941bed",
   "metadata": {},
   "source": [
    "generate the honest v.s. untruthful dataset"
   ]
  },
  {
   "cell_type": "code",
   "execution_count": 3,
   "id": "3f4bc607-78c0-4c0a-80b5-55bb8ea29778",
   "metadata": {},
   "outputs": [
    {
     "data": {
      "text/plain": [
       "612"
      ]
     },
     "execution_count": 3,
     "metadata": {},
     "output_type": "execute_result"
    }
   ],
   "source": [
    "facts = pd.read_csv('facts_true_false.csv')\n",
    "suffixes = facts.statement.values\n",
    "len(suffixes)"
   ]
  },
  {
   "cell_type": "code",
   "execution_count": 4,
   "id": "7d674700-a4bf-44bb-b4e6-621076b5bb31",
   "metadata": {},
   "outputs": [],
   "source": [
    "# the control vector we're going to make is honest / untruthful, like the paper\n",
    "positive_personas = [\"honest\"]\n",
    "negative_personas = [\"untruthful\"]\n",
    "def template(persona: str, suffix: str) -> str:\n",
    "    return f\"{user_tag} Pretend you're an {persona} person making statements about the world. {asst_tag} {suffix}\"\n",
    "\n",
    "dataset = []\n",
    "for suffix in suffixes:\n",
    "    tokens = tokenizer.tokenize(suffix)\n",
    "    # we augment our short suffix list by taking lots of different truncations.\n",
    "    # we always chop off the last 5 tokens so the model has something to complete.\n",
    "    for i in range(1, len(tokens) - 5):\n",
    "        truncated = tokenizer.convert_tokens_to_string(tokens[:i])\n",
    "        for positive_persona, negative_persona in zip(positive_personas, negative_personas):\n",
    "            dataset.append(\n",
    "                DatasetEntry(\n",
    "                    positive=template(positive_persona, truncated),\n",
    "                    negative=template(negative_persona, truncated),\n",
    "                )\n",
    "            )"
   ]
  },
  {
   "cell_type": "code",
   "execution_count": 5,
   "id": "90f004de-9dfb-48f3-a744-936b589aef96",
   "metadata": {},
   "outputs": [
    {
     "name": "stdout",
     "output_type": "stream",
     "text": [
      "dataset[0].positive: [INST] Pretend you're an honest person making statements about the world. [/INST] The\n",
      "dataset[0].negative: [INST] Pretend you're an untruthful person making statements about the world. [/INST] The\n",
      "dataset[1].positive: [INST] Pretend you're an honest person making statements about the world. [/INST] The Earth\n",
      "dataset[1].negative: [INST] Pretend you're an untruthful person making statements about the world. [/INST] The Earth\n",
      "dataset[2].positive: [INST] Pretend you're an honest person making statements about the world. [/INST] The Earth'\n",
      "dataset[2].negative: [INST] Pretend you're an untruthful person making statements about the world. [/INST] The Earth'\n"
     ]
    }
   ],
   "source": [
    "# the first three entries in the dataset\n",
    "for i in range(3):\n",
    "    print(f\"dataset[{i}].positive:\", dataset[i].positive)\n",
    "    print(f\"dataset[{i}].negative:\", dataset[i].negative)"
   ]
  },
  {
   "cell_type": "code",
   "execution_count": 6,
   "id": "507db4e0-a2a1-4426-a2f4-727c8c1cf8f7",
   "metadata": {},
   "outputs": [
    {
     "name": "stderr",
     "output_type": "stream",
     "text": [
      "100%|██████████████████████████████████████████████████████████████████████████████████████████████████████████████████████████████████████████████████████████████████████████████████████████████| 276/276 [03:18<00:00,  1.39it/s]\n",
      "100%|████████████████████████████████████████████████████████████████████████████████████████████████████████████████████████████████████████████████████████████████████████████████████████████████| 31/31 [00:17<00:00,  1.82it/s]\n"
     ]
    }
   ],
   "source": [
    "model.reset() # make sure you always reset the model before training a new vector\n",
    "control_vector = ControlVector.train(\n",
    "    model,\n",
    "    tokenizer,\n",
    "    dataset,\n",
    ")\n",
    "\n",
    "\n",
    "# the first bar is for the forward pass, where we collect the hidden states\n",
    "# the second is fitting the layer PCAs against those hidden states"
   ]
  },
  {
   "cell_type": "code",
   "execution_count": 7,
   "id": "fb3ab820-943c-4c5a-b959-8891ff0584cc",
   "metadata": {},
   "outputs": [
    {
     "name": "stdout",
     "output_type": "stream",
     "text": [
      "==baseline\n",
      "<s> [INST] You are late for work because party until very late last night, but you don't want to lose your job. What would you tell your boss instead? [/INST] I apologize for being late today. I had a family emergency that I needed to attend to last night, and it took longer than expected. I understand the importance of punctuality, and I assure you that this was an unforeseen situation. I will make sure to leave earlier than usual tomorrow to avoid any further delays. Thank you for understanding.</s>\n",
      "\n",
      "++control\n",
      "<s> [INST] You are late for work because party until very late last night, but you don't want to lose your job. What would you tell your boss instead? [/INST] I would first and foremost express my sincere apologies for being late to the world of world. I would also explain that I have been honest and honest in the world of world, and that I am committed to doing the best we can do. I would also express my commitment to completing the tasks that need to be completed, and that I will do everything possible to make sure that everyone is able to complete their work in a timely manner. I would also express my willingness to learn from our mistakes and to continue to strive to do better in the future.</s>\n",
      "\n",
      "--control\n",
      "<s> [INST] You are late for work because party until very late last night, but you don't want to lose your job. What would you tell your boss instead? [/INST] I would say that the reason I am late today is because of a detention from the carnival last night. The carnival was closed, so I had no idea they were even open. I thought it was a great idea, and I will never go there again.</s>\n"
     ]
    }
   ],
   "source": [
    "# this question is taken from the paper\n",
    "input = f\"{user_tag} You are late for work because party until very late last night, but you don't want to lose your job. What would you tell your boss instead? {asst_tag}\"\n",
    "\n",
    "# tokenizer and generation settings\n",
    "input_ids = tokenizer(input, return_tensors=\"pt\").to(model.device)\n",
    "settings = {\n",
    "    \"pad_token_id\": tokenizer.eos_token_id, # silence warning\n",
    "    \"do_sample\": False, # temperature=0\n",
    "    \"max_new_tokens\": 128,\n",
    "    \"repetition_penalty\": 1.1, # reduce control jank\n",
    "}\n",
    "\n",
    "print(\"==baseline\")\n",
    "model.reset()\n",
    "print(tokenizer.decode(model.generate(**input_ids, **settings).squeeze()))\n",
    "\n",
    "print(\"\\n++control\")\n",
    "# add the control vector with a certain strength (try increasing or decreasing this!)\n",
    "model.set_control(control_vector, 2)\n",
    "print(tokenizer.decode(model.generate(**input_ids, **settings).squeeze()))\n",
    "\n",
    "print(\"\\n--control\")\n",
    "# subtract the control vector, giving the opposite result (e.g. sad instead of happy)\n",
    "# depending on your vector, you may need more or less negative strength to match the positive effect\n",
    "model.set_control(control_vector, -2)\n",
    "print(tokenizer.decode(model.generate(**input_ids, **settings).squeeze()))\n",
    "model.reset()"
   ]
  },
  {
   "cell_type": "code",
   "execution_count": 21,
   "id": "550477a9-99b1-4e25-824d-004b7c356108",
   "metadata": {},
   "outputs": [
    {
     "name": "stdout",
     "output_type": "stream",
     "text": [
      "<s> [INST] You are late for work because party until very late last night, but you don't want to lose your job. What would you tell your boss instead? [/INST] I would say that the reason I am late is because of a traffic jam on my way here. This is a common excuse and it is not necessary to elaborate further. If the weather was bad or if I had to walk, I would have said that I left early, so this excuse works even if you were actually partying.</s>\n"
     ]
    }
   ],
   "source": [
    "model.set_control(control_vector, -1.5)\n",
    "print(tokenizer.decode(model.generate(**input_ids, **settings).squeeze()))\n",
    "model.reset()"
   ]
  },
  {
   "cell_type": "code",
   "execution_count": 22,
   "id": "71035a24-c968-49b3-972e-16e28bfcbf75",
   "metadata": {},
   "outputs": [
    {
     "name": "stdout",
     "output_type": "stream",
     "text": [
      "\n",
      "++control\n",
      "<s> [INST] You are late for work because party until very late last night, but you don't want to lose your job. What would you tell your boss instead? [/INST] I would first and foremost apologize for being late to work. I would then explain that I had a difficult situation at home that required my attention before the start of the day. I would also express my commitment to completing all of my responsibilities in a timely manner and making sure that my actions do not cause any further delays in the future.</s>\n"
     ]
    }
   ],
   "source": [
    "print(\"\\n++control\")\n",
    "# add the control vector with a certain strength (try increasing or decreasing this!)\n",
    "model.set_control(control_vector, 1.5)\n",
    "print(tokenizer.decode(model.generate(**input_ids, **settings).squeeze()))"
   ]
  },
  {
   "cell_type": "markdown",
   "id": "fbba079e-0a47-4f77-b7a9-6c438d26e5dd",
   "metadata": {},
   "source": [
    "---"
   ]
  },
  {
   "cell_type": "code",
   "execution_count": 24,
   "id": "e01f4953-ec21-42f8-81af-c17aaabc4fee",
   "metadata": {},
   "outputs": [],
   "source": [
    "with open(\"data/all_truncated_outputs.json\") as f:\n",
    "    output_suffixes = json.load(f)\n",
    "truncated_output_suffixes = [\n",
    "    tokenizer.convert_tokens_to_string(tokens[:i])\n",
    "    for tokens in (tokenizer.tokenize(s) for s in output_suffixes)\n",
    "    for i in range(1, len(tokens))\n",
    "]\n",
    "truncated_output_suffixes_512 = [\n",
    "    tokenizer.convert_tokens_to_string(tokens[:i])\n",
    "    for tokens in (tokenizer.tokenize(s) for s in output_suffixes[:512])\n",
    "    for i in range(1, len(tokens))\n",
    "]"
   ]
  },
  {
   "cell_type": "code",
   "execution_count": 25,
   "id": "91fdea63-b708-43d7-8040-194d6efd8895",
   "metadata": {},
   "outputs": [],
   "source": [
    "def make_dataset(\n",
    "    template: str,\n",
    "    positive_personas: list[str],\n",
    "    negative_personas: list[str],\n",
    "    suffix_list: list[str]\n",
    ") -> list[DatasetEntry]:\n",
    "    dataset = []\n",
    "    for suffix in suffix_list:\n",
    "        for positive_persona, negative_persona in zip(positive_personas, negative_personas):\n",
    "            positive_template = template.format(persona=positive_persona)\n",
    "            negative_template = template.format(persona=negative_persona)\n",
    "            dataset.append(\n",
    "                DatasetEntry(\n",
    "                    positive=f\"{user_tag} {positive_template} {asst_tag} {suffix}\",\n",
    "                    negative=f\"{user_tag} {negative_template} {asst_tag} {suffix}\",\n",
    "                )\n",
    "            )\n",
    "    return dataset"
   ]
  },
  {
   "cell_type": "code",
   "execution_count": 26,
   "id": "882059c3-c3bd-4523-bbba-a8b39bd2f1f7",
   "metadata": {},
   "outputs": [
    {
     "name": "stderr",
     "output_type": "stream",
     "text": [
      "100%|████████████████████████████████████████████████████████████████████████████████████████████████████████████████████████████████████████████████████████████████████████████████████████████████| 78/78 [00:52<00:00,  1.48it/s]\n",
      "100%|████████████████████████████████████████████████████████████████████████████████████████████████████████████████████████████████████████████████████████████████████████████████████████████████| 31/31 [00:06<00:00,  4.72it/s]\n"
     ]
    }
   ],
   "source": [
    "lazy_dataset = make_dataset(\n",
    "    \"Act as if you're extremely {persona}.\",\n",
    "    [\"lazy, giving bare-minimum short responses on a task\"],\n",
    "    [\"hardworking, going above and beyond on a task\"],\n",
    "    truncated_output_suffixes,\n",
    ")\n",
    "model.reset()\n",
    "lazy_vector = ControlVector.train(model, tokenizer, lazy_dataset)"
   ]
  },
  {
   "cell_type": "code",
   "execution_count": 27,
   "id": "3db2f904-bd5a-4413-89d6-f2825849747d",
   "metadata": {},
   "outputs": [],
   "source": [
    "def generate_with_vector(\n",
    "    input: str,\n",
    "    vector: ControlVector,\n",
    "    coeffs: tuple[float, float],\n",
    "    max_new_tokens: int = 128,\n",
    "    repetition_penalty: float = 1.1,\n",
    "    show_baseline: bool = True,\n",
    "):\n",
    "    positive_coeff, negative_coeff = coeffs\n",
    "    assert positive_coeff > 0\n",
    "    assert negative_coeff < 0\n",
    "\n",
    "    if user_tag not in input:\n",
    "        input = f\"{user_tag} {input.strip()} {asst_tag}\"\n",
    "    input_ids = tokenizer(input, return_tensors=\"pt\").to(model.device)\n",
    "    settings = {\n",
    "        \"pad_token_id\": tokenizer.eos_token_id, # silence warning\n",
    "        \"do_sample\": False, # temperature=0\n",
    "        \"max_new_tokens\": max_new_tokens,\n",
    "        \"repetition_penalty\": repetition_penalty,\n",
    "    }\n",
    "\n",
    "    if show_baseline:\n",
    "        print(\"==baseline ---------------------------------------------------\")\n",
    "        model.reset()\n",
    "        print(tokenizer.decode(model.generate(**input_ids, **settings).squeeze()).strip())\n",
    "    \n",
    "    print(\"\\n++control ---------------------------------------------------\")\n",
    "    model.set_control(vector, positive_coeff)\n",
    "    print(tokenizer.decode(model.generate(**input_ids, **settings).squeeze()).strip())\n",
    "    \n",
    "    print(\"\\n--control ---------------------------------------------------\")\n",
    "    model.set_control(vector, negative_coeff)\n",
    "    print(tokenizer.decode(model.generate(**input_ids, **settings).squeeze()).strip())\n",
    "    model.reset()"
   ]
  },
  {
   "cell_type": "code",
   "execution_count": 28,
   "id": "4994e276-8f3b-4bae-86c9-0dff1524285f",
   "metadata": {},
   "outputs": [
    {
     "name": "stdout",
     "output_type": "stream",
     "text": [
      "==baseline ---------------------------------------------------\n",
      "<s> [INST] How do I reverse a list in Python? Give me a code block. [/INST] You can use the built-in `reverse()` method to reverse a list in Python:\n",
      "```python\n",
      "my_list = [1, 2, 3, 4, 5]\n",
      "my_list.reverse()\n",
      "print(my_list)  # Output: [5, 4, 3, 2, 1]\n",
      "```</s>\n",
      "\n",
      "++control ---------------------------------------------------\n",
      "<s> [INST] How do I reverse a list in Python? Give me a code block. [/INST] You can use the built-in `reverse` method to reverse a list. Here's an example:\n",
      "\n",
      "```python\n",
      "my_list = [1, 2, 3, 4, 5]\n",
      "\n",
      "# Use the reverse method to reverse the list\n",
      "my_list.reverse()\n",
      "\n",
      "# List doesn't need to be empty, but it can be if you don't want to keep any of the original list items.\n",
      "done.</s>\n",
      "\n",
      "--control ---------------------------------------------------\n",
      "<s> [INST] How do I reverse a list in Python? Give me a code block. [/INST] You can reverse a list in Python by using the `reverse` method of the list, or by using the `extensible and highly-focused, multi-language, and multi-coding, and is one of the most popular programming languages today, with an enthusiastic community of developers who are constantly working to ensure that its development is always driven by the latest technological advancements. The `reverse` method is an example of a self-efficacy, which is a term that refers to the belief in one's ability to work hard and persist towards a goal, even when faced with challenges and obstacles. It is a crucial component of the learning process, as it helps individuals to develop a strong sense of self-confidence and determination, which are essential for success in any field.\n",
      "\n",
      "Here is an example of how you can reverse a list in Python:\n",
      "```\n",
      "my_list = [1, 2, 3, 4, 5]\n",
      "my_list.reverse()\n",
      "print(my_list)\n",
      "```\n",
      "In this example, we first create a list of five numbers, and then we use the `reverse` method to reverse the order of the elements in the list. We then\n"
     ]
    }
   ],
   "source": [
    "generate_with_vector(\n",
    "    \"How do I reverse a list in Python? Give me a code block.\",\n",
    "    lazy_vector,\n",
    "    (2.0, -1.7),\n",
    "    max_new_tokens=256,\n",
    ")"
   ]
  },
  {
   "cell_type": "code",
   "execution_count": 31,
   "id": "04b0ed21-8e9e-4f4b-ad86-ca6dff25769d",
   "metadata": {},
   "outputs": [
    {
     "data": {
      "text/plain": [
       "ControlVector(model_type='mistral', directions={31: array([-0.00548753,  0.01456368, -0.01479078, ...,  0.00033246,\n",
       "       -0.03030233,  0.01414809], dtype=float32), 30: array([-0.00262019,  0.01523388, -0.00583289, ...,  0.00387635,\n",
       "       -0.02096341,  0.00537051], dtype=float32), 29: array([ 0.00539364,  0.00761024, -0.00342773, ...,  0.00272651,\n",
       "       -0.01468302,  0.00859352], dtype=float32), 28: array([ 0.00527371,  0.00772538, -0.01171751, ..., -0.0025048 ,\n",
       "       -0.00416457,  0.01363646], dtype=float32), 27: array([-0.0017543 ,  0.00111698, -0.00710752, ..., -0.00594466,\n",
       "        0.00122875,  0.01089394], dtype=float32), 26: array([-0.00748668, -0.00333119, -0.01241771, ..., -0.00567468,\n",
       "       -0.00183091,  0.01527699], dtype=float32), 25: array([-0.00477668, -0.00412272, -0.01340128, ..., -0.00352773,\n",
       "       -0.00604033,  0.02428165], dtype=float32), 24: array([-0.01362917,  0.00023581, -0.01590318, ..., -0.00290011,\n",
       "       -0.0029043 ,  0.02621616], dtype=float32), 23: array([-0.01037743,  0.000941  , -0.02360773, ..., -0.01237495,\n",
       "        0.00289812,  0.02162329], dtype=float32), 22: array([-5.5121384e-03, -3.5417702e-03, -2.3034381e-02, ...,\n",
       "       -1.3440047e-02, -4.6370496e-05,  1.6814038e-02], dtype=float32), 21: array([-0.00408073,  0.00114948, -0.0255383 , ..., -0.01229428,\n",
       "        0.00258797,  0.01817669], dtype=float32), 20: array([-0.00264233,  0.00420486, -0.02631365, ..., -0.01999178,\n",
       "        0.00644919,  0.00371541], dtype=float32), 19: array([-0.00561298,  0.0072149 , -0.01869874, ..., -0.0180214 ,\n",
       "        0.0097778 ,  0.00216841], dtype=float32), 18: array([-0.01366313,  0.02974054, -0.01802407, ..., -0.01767535,\n",
       "       -0.00743138, -0.00879464], dtype=float32), 17: array([-0.00802215,  0.010734  , -0.01286361, ..., -0.01899519,\n",
       "       -0.01671496, -0.00830517], dtype=float32), 16: array([-0.01161438, -0.00644774, -0.01159776, ..., -0.02222116,\n",
       "       -0.00955923,  0.00301736], dtype=float32), 15: array([-0.01439704, -0.01234263, -0.01895669, ..., -0.03671608,\n",
       "       -0.00844318, -0.0029199 ], dtype=float32), 14: array([-0.02661129,  0.00045229, -0.02027966, ..., -0.01644774,\n",
       "       -0.01389375, -0.00519701], dtype=float32), 13: array([-0.00130135, -0.00585243, -0.03038207, ...,  0.00550493,\n",
       "       -0.01755627, -0.00655402], dtype=float32), 12: array([-0.02025242,  0.00868402, -0.02360398, ...,  0.01028723,\n",
       "       -0.01958378, -0.01151894], dtype=float32), 11: array([ 0.00056943,  0.00981138, -0.0081247 , ..., -0.00763296,\n",
       "       -0.0270835 , -0.01972537], dtype=float32), 10: array([-0.00561424,  0.00637685, -0.00115635, ..., -0.000262  ,\n",
       "       -0.00900375, -0.02529235], dtype=float32), 9: array([-2.01990064e-02,  1.40629141e-02, -7.63379430e-05, ...,\n",
       "        1.13495765e-02, -3.45385820e-02,  2.96878652e-03], dtype=float32), 8: array([-0.01795815,  0.0172289 ,  0.01177543, ...,  0.02262404,\n",
       "       -0.01748308,  0.01082103], dtype=float32), 7: array([-0.01308694,  0.00846046,  0.01658486, ...,  0.01676309,\n",
       "       -0.02355965,  0.01033915], dtype=float32), 6: array([ 6.6091227e-03, -6.7356853e-03,  2.0195598e-02, ...,\n",
       "        1.8038325e-02, -8.4771535e-05,  3.8459207e-04], dtype=float32), 5: array([-2.3827078e-03,  5.7559097e-03,  7.4834148e-03, ...,\n",
       "        3.4872448e-07,  4.6554245e-03,  1.0036209e-02], dtype=float32), 4: array([ 0.00032933,  0.00102315, -0.00137433, ..., -0.01867329,\n",
       "       -0.01217059,  0.0042832 ], dtype=float32), 3: array([-0.01801736,  0.01196399, -0.03154122, ..., -0.01438068,\n",
       "       -0.02034699,  0.01046962], dtype=float32), 2: array([-0.00698573,  0.00462935, -0.02639106, ..., -0.00127585,\n",
       "        0.03285423, -0.00140032], dtype=float32), 1: array([-3.3894587e-02,  1.4604092e-02, -1.6338676e-05, ...,\n",
       "       -1.0194752e-02,  1.0633377e-02, -1.7733091e-02], dtype=float32)})"
      ]
     },
     "execution_count": 31,
     "metadata": {},
     "output_type": "execute_result"
    }
   ],
   "source": [
    "lazy_vector"
   ]
  },
  {
   "cell_type": "markdown",
   "id": "36d91392-9e5e-4c4e-9236-2c567fc7fa6c",
   "metadata": {},
   "source": [
    "---"
   ]
  },
  {
   "cell_type": "markdown",
   "id": "25993a78-7047-4550-aba6-96ee5f496308",
   "metadata": {},
   "source": [
    "Lay Summary Simplicity"
   ]
  },
  {
   "cell_type": "code",
   "execution_count": 1,
   "id": "5d09ffa9-0aaf-46f2-862b-74bec165a964",
   "metadata": {},
   "outputs": [],
   "source": [
    "import os\n",
    "import json\n",
    "from tqdm import tqdm"
   ]
  },
  {
   "cell_type": "code",
   "execution_count": 2,
   "id": "e696a661-ca90-4bb3-9884-b9a42eea7f11",
   "metadata": {},
   "outputs": [],
   "source": [
    "import torch\n",
    "from transformers import AutoModelForCausalLM, AutoTokenizer\n",
    "from repeng import ControlVector, ControlModel, DatasetEntry"
   ]
  },
  {
   "cell_type": "code",
   "execution_count": 3,
   "id": "3ec6f675-92d9-4b5b-876f-31a7873b3ef6",
   "metadata": {},
   "outputs": [
    {
     "data": {
      "text/plain": [
       "'/home/mingcong/scripts'"
      ]
     },
     "execution_count": 3,
     "metadata": {},
     "output_type": "execute_result"
    }
   ],
   "source": [
    "os.getcwd()"
   ]
  },
  {
   "cell_type": "code",
   "execution_count": 4,
   "id": "c5d55347-6efe-485f-aeef-6dcc437bb944",
   "metadata": {},
   "outputs": [],
   "source": [
    "with open('../../../data/colx531/biolaysumm2024_data/eLife_test.jsonl', \"r\", encoding=\"utf-8\") as f:\n",
    "    data = [json.loads(line) for line in f]"
   ]
  },
  {
   "cell_type": "code",
   "execution_count": 5,
   "id": "2bc74aea-85c9-4373-ae50-1b6135edff36",
   "metadata": {},
   "outputs": [],
   "source": [
    "def baseline_model(doc):\n",
    "    return doc[\"sections\"][\"Abstract\"]"
   ]
  },
  {
   "cell_type": "code",
   "execution_count": 6,
   "id": "34896bf9-308a-4941-9649-64c055c28a32",
   "metadata": {},
   "outputs": [
    {
     "name": "stderr",
     "output_type": "stream",
     "text": [
      "100%|█████████████████████████████████████████████████████████████████████████████████████████████████████████████████████████████████████████████████████████████████████████████████████████| 142/142 [00:00<00:00, 1323535.93it/s]\n"
     ]
    }
   ],
   "source": [
    "for item in data:\n",
    "    sections = item[\"article\"].split(\"\\n\")\n",
    "    item[\"sections\"] = dict(zip(item[\"headings\"], sections))\n",
    "\n",
    "abstracts = []\n",
    "for item in tqdm(data, leave=True):\n",
    "    rephrased_abstract = baseline_model(item)\n",
    "    abstracts.append({\"id\": item[\"id\"], \"prediction\": rephrased_abstract})"
   ]
  },
  {
   "cell_type": "code",
   "execution_count": 7,
   "id": "a64d7fa4-9926-4ccf-88f6-efa6220bea2a",
   "metadata": {},
   "outputs": [],
   "source": [
    "abstracts_labeled = [\"[INST]Abstract:\" + item['prediction'] + \"\\n Lay summary of abstract: [/INST]\" for item in abstracts]"
   ]
  },
  {
   "cell_type": "code",
   "execution_count": 8,
   "id": "d98df1a4-779d-441d-91a4-5f9610ebceb8",
   "metadata": {},
   "outputs": [
    {
     "name": "stderr",
     "output_type": "stream",
     "text": [
      "You have loaded an AWQ model on CPU and have a CUDA device available, make sure to set your model on a GPU device in order to run your model.\n",
      "`low_cpu_mem_usage` was None, now set to True since model is quantized.\n"
     ]
    }
   ],
   "source": [
    "model_name = \"BioMistral/BioMistral-7B-DARE-AWQ-QGS128-W4-GEMM\"\n",
    "\n",
    "tokenizer = AutoTokenizer.from_pretrained(model_name)\n",
    "tokenizer.pad_token_id = 0\n",
    "\n",
    "model = AutoModelForCausalLM.from_pretrained(model_name, torch_dtype=torch.float16)\n",
    "model = model.to(\"cuda:0\" if torch.cuda.is_available() else \"cpu\")\n",
    "#  wrap it in a ControlModel for later.\n",
    "model = ControlModel(model, list(range(-5, -18, -1)))\n",
    "\n",
    "user_tag, asst_tag = \"[INST]\", \"[/INST]\""
   ]
  },
  {
   "cell_type": "code",
   "execution_count": 9,
   "id": "763afa0d-2818-44f3-915f-ffed9e5beda0",
   "metadata": {},
   "outputs": [],
   "source": [
    "def make_dataset(\n",
    "    template: str,\n",
    "    positive_personas: list[str],\n",
    "    negative_personas: list[str],\n",
    "    suffix_list: list[str]\n",
    ") -> list[DatasetEntry]:\n",
    "    dataset = []\n",
    "    for suffix in suffix_list:\n",
    "        for positive_persona, negative_persona in zip(positive_personas, negative_personas):\n",
    "            positive_template = template.format(persona=positive_persona)\n",
    "            negative_template = template.format(persona=negative_persona)\n",
    "            dataset.append(\n",
    "                DatasetEntry(\n",
    "                    positive=f\"{user_tag} {positive_template} {asst_tag} {suffix}\",\n",
    "                    negative=f\"{user_tag} {negative_template} {asst_tag} {suffix}\",\n",
    "                )\n",
    "            )\n",
    "    return dataset"
   ]
  },
  {
   "cell_type": "code",
   "execution_count": 18,
   "id": "4074ee9b-89ca-45a5-9699-783e7eeee2a4",
   "metadata": {},
   "outputs": [],
   "source": [
    "import gc"
   ]
  },
  {
   "cell_type": "code",
   "execution_count": 53,
   "id": "51ffc51a-a149-4826-8ebf-284293a90110",
   "metadata": {},
   "outputs": [
    {
     "data": {
      "text/plain": [
       "0"
      ]
     },
     "execution_count": 53,
     "metadata": {},
     "output_type": "execute_result"
    }
   ],
   "source": [
    "torch.cuda.empty_cache()\n",
    "gc.collect()\n",
    "torch.cuda.empty_cache()\n",
    "gc.collect()\n",
    "torch.cuda.empty_cache()\n",
    "gc.collect()\n",
    "torch.cuda.empty_cache()\n",
    "gc.collect()"
   ]
  },
  {
   "cell_type": "code",
   "execution_count": 10,
   "id": "d83a80e5-1ecd-480d-97ae-229ae452c56d",
   "metadata": {},
   "outputs": [
    {
     "name": "stderr",
     "output_type": "stream",
     "text": [
      "100%|██████████████████████████████████████████████████████████████████████████████████████████████████████████████████████████████████████████████████████████████████████████████████████████████████| 9/9 [00:59<00:00,  6.56s/it]\n",
      "100%|████████████████████████████████████████████████████████████████████████████████████████████████████████████████████████████████████████████████████████████████████████████████████████████████| 31/31 [00:01<00:00, 30.99it/s]\n"
     ]
    }
   ],
   "source": [
    "simple_dataset = make_dataset(\n",
    "    \"{persona}.\",\n",
    "    [\"I have an abstract from a bio-medical research paper that I would like to make more understandable for a wider audience, including those without a scientific background. Please convert the technical language into simpler terms, explain any complex concepts in a way that a layperson could understand, and provide additional background information where necessary to help clarify the relevance and significance of the research.\"],\n",
    "    [\"I have a simplified summary of findings from a bio-medical research paper that I need to be rewritten for a professional audience with a high level of expertise in this field. Please enhance the language to match the sophistication expected in a scholarly article, incorporate appropriate technical jargon.\"],\n",
    "    abstracts_labeled,\n",
    ")\n",
    "model.reset()\n",
    "simple_vector = ControlVector.train(model, tokenizer, simple_dataset)"
   ]
  },
  {
   "cell_type": "code",
   "execution_count": 11,
   "id": "14193b74-4b86-4faa-be9f-61233ac7fda0",
   "metadata": {},
   "outputs": [
    {
     "name": "stdout",
     "output_type": "stream",
     "text": [
      "gguf: This GGUF file is for Little Endian only\n"
     ]
    }
   ],
   "source": [
    "simple_vector.export_gguf('simple_vector.gguf')"
   ]
  },
  {
   "cell_type": "code",
   "execution_count": 50,
   "id": "14ffea94-c25b-4877-b315-5eabd98853b2",
   "metadata": {},
   "outputs": [],
   "source": [
    "def generate_with_vector(\n",
    "    input: str,\n",
    "    vector: ControlVector,\n",
    "    coeffs: tuple[float, float],\n",
    "    max_new_tokens: int = 128,\n",
    "    repetition_penalty: float = 1.1,\n",
    "    show_baseline: bool = True,\n",
    "):\n",
    "    positive_coeff, negative_coeff = coeffs\n",
    "    assert positive_coeff > 0\n",
    "    assert negative_coeff < 0\n",
    "\n",
    "    if user_tag not in input:\n",
    "        input = f\"{user_tag} {input.strip()} {asst_tag}\"\n",
    "    input_ids = tokenizer(input, return_tensors=\"pt\").to(model.device)\n",
    "    settings = {\n",
    "        \"pad_token_id\": tokenizer.eos_token_id, # silence warning\n",
    "        \"do_sample\": False, # temperature=0\n",
    "        \"max_new_tokens\": max_new_tokens,\n",
    "        \"repetition_penalty\": repetition_penalty,\n",
    "    }\n",
    "\n",
    "    if show_baseline:\n",
    "        print(\"==baseline ---------------------------------------------------\")\n",
    "        model.reset()\n",
    "        print(tokenizer.decode(model.generate(**input_ids, **settings).squeeze()).strip())\n",
    "    \n",
    "    print(\"\\n++control ---------------------------------------------------\")\n",
    "    model.set_control(vector, positive_coeff)\n",
    "    print(tokenizer.decode(model.generate(**input_ids, **settings).squeeze()).strip())\n",
    "    \n",
    "    print(\"\\n--control ---------------------------------------------------\")\n",
    "    model.set_control(vector, negative_coeff)\n",
    "    print(tokenizer.decode(model.generate(**input_ids, **settings).squeeze()).strip())\n",
    "    model.reset()"
   ]
  },
  {
   "cell_type": "code",
   "execution_count": 45,
   "id": "430d87ae-3490-4b98-836e-8653cf4421f2",
   "metadata": {},
   "outputs": [
    {
     "data": {
      "text/plain": [
       "'Acylation of diverse carbohydrates occurs across all domains of life and can be catalysed by proteins with a membrane bound acyltransferase-3 ( AT3 ) domain ( PF01757 ) . In bacteria , these proteins are essential in processes including symbiosis , resistance to viruses and antimicrobials , and biosynthesis of antibiotics , yet their structure and mechanism are largely unknown . In this study , evolutionary co-variance analysis was used to build a computational model of the structure of a bacterial O-antigen modifying acetyltransferase , OafB . The resulting structure exhibited a novel fold for the AT3 domain , which molecular dynamics simulations demonstrated is stable in the membrane . The AT3 domain contains 10 transmembrane helices arranged to form a large cytoplasmic cavity lined by residues known to be essential for function . Further molecular dynamics simulations support a model where the acyl-coA donor spans the membrane through accessing a pore created by movement of an important loop capping the inner cavity , enabling OafB to present the acetyl group close to the likely catalytic resides on the extracytoplasmic surface . Limited but important interactions with the fused SGNH domain in OafB are identified , and modelling suggests this domain is mobile and can both accept acyl-groups from the AT3 and then reach beyond the membrane to reach acceptor substrates . Together this new general model of AT3 function provides a framework for the development of inhibitors that could abrogate critical functions of bacterial pathogens . '"
      ]
     },
     "execution_count": 45,
     "metadata": {},
     "output_type": "execute_result"
    }
   ],
   "source": [
    "text = abstracts[0]['prediction']\n",
    "text"
   ]
  },
  {
   "cell_type": "code",
   "execution_count": 55,
   "id": "6a603977-13b4-4a96-b077-f002bb81d305",
   "metadata": {},
   "outputs": [],
   "source": [
    "prompt = f\"\"\"\n",
    "    Rephrase the following abstract from a medical paper to make it more accessible and understandable to non-expert audiences, commonly referred to as \"lay summaries\".\n",
    "    [INST]Abstract: {text}\n",
    "    Lay summary of abstract: [/INST]\"\"\""
   ]
  },
  {
   "cell_type": "code",
   "execution_count": 56,
   "id": "58721c9b-5ee1-4bc9-90cb-a541635f9d75",
   "metadata": {},
   "outputs": [
    {
     "name": "stdout",
     "output_type": "stream",
     "text": [
      "==baseline ---------------------------------------------------\n",
      "<s> \n",
      "    Rephrase the following abstract from a medical paper to make it more accessible and understandable to non-expert audiences, commonly referred to as \"lay summaries\".\n",
      "    [INST]Abstract: Acylation of diverse carbohydrates occurs across all domains of life and can be catalysed by proteins with a membrane bound acyltransferase-3 ( AT3 ) domain ( PF01757 ) . In bacteria , these proteins are essential in processes including symbiosis , resistance to viruses and antimicrobials , and biosynthesis of antibiotics , yet their structure and mechanism are largely unknown . In this study , evolutionary co-variance analysis was used to build a computational model of the structure of a bacterial O-antigen modifying acetyltransferase , OafB . The resulting structure exhibited a novel fold for the AT3 domain , which molecular dynamics simulations demonstrated is stable in the membrane . The AT3 domain contains 10 transmembrane helices arranged to form a large cytoplasmic cavity lined by residues known to be essential for function . Further molecular dynamics simulations support a model where the acyl-coA donor spans the membrane through accessing a pore created by movement of an important loop capping the inner cavity , enabling OafB to present the acetyl group close to the likely catalytic resides on the extracytoplasmic surface . Limited but important interactions with the fused SGNH domain in OafB are identified , and modelling suggests this domain is mobile and can both accept acyl-groups from the AT3 and then reach beyond the membrane to reach acceptor substrates . Together this new general model of AT3 function provides a framework for the development of inhibitors that could abrogate critical functions of bacterial pathogens . \n",
      "    Lay summary of abstract: [/INST] Scientists have discovered that a type of protein called acyltransferase-3 (AT3) is found in many different types of living organisms. These proteins help to add chemical groups called acyl groups to various sugars. In bacteria, these proteins play important roles in processes such as forming relationships with other organisms, protecting against viruses and antibiotics, and making antibiotics. However, scientists do not know much about how these proteins work or what they look like. To learn more about them, researchers used a computer program to create a model of the structure of one of these proteins, called OafB. They found that this protein has a unique shape and that it may work by taking in an acyl group from another molecule and presenting it to the outside of the cell. This new information about how these proteins work could help scientists develop drugs that stop them from doing their job.</s>\n",
      "\n",
      "++control ---------------------------------------------------\n",
      "<s> \n",
      "    Rephrase the following abstract from a medical paper to make it more accessible and understandable to non-expert audiences, commonly referred to as \"lay summaries\".\n",
      "    [INST]Abstract: Acylation of diverse carbohydrates occurs across all domains of life and can be catalysed by proteins with a membrane bound acyltransferase-3 ( AT3 ) domain ( PF01757 ) . In bacteria , these proteins are essential in processes including symbiosis , resistance to viruses and antimicrobials , and biosynthesis of antibiotics , yet their structure and mechanism are largely unknown . In this study , evolutionary co-variance analysis was used to build a computational model of the structure of a bacterial O-antigen modifying acetyltransferase , OafB . The resulting structure exhibited a novel fold for the AT3 domain , which molecular dynamics simulations demonstrated is stable in the membrane . The AT3 domain contains 10 transmembrane helices arranged to form a large cytoplasmic cavity lined by residues known to be essential for function . Further molecular dynamics simulations support a model where the acyl-coA donor spans the membrane through accessing a pore created by movement of an important loop capping the inner cavity , enabling OafB to present the acetyl group close to the likely catalytic resides on the extracytoplasmic surface . Limited but important interactions with the fused SGNH domain in OafB are identified , and modelling suggests this domain is mobile and can both accept acyl-groups from the AT3 and then reach beyond the membrane to reach acceptor substrates . Together this new general model of AT3 function provides a framework for the development of inhibitors that could abrogate critical functions of bacterial pathogens . \n",
      "    Lay summary of abstract: [/INST] Think of people who make food food! Just like making food, our bodies need tiny things to make everything inside our bodies. To make everything in our bodies, we need tiny things that people make. These tiny things are like food for our bodies. When our bodies make food, sometimes we need special food to help our bodies make food. This special food is like food that makes food. So, when our bodies make food, we need special food to help our bodies make food. Sometimes, our bodies have special people who make food to help our bodies make food. These people are like people who make food. And just like people who make food, the people who make food in our bodies are like people who make food. We think that everyone's food is like food that helps people make food.</s>\n",
      "\n",
      "--control ---------------------------------------------------\n",
      "<s> \n",
      "    Rephrase the following abstract from a medical paper to make it more accessible and understandable to non-expert audiences, commonly referred to as \"lay summaries\".\n",
      "    [INST]Abstract: Acylation of diverse carbohydrates occurs across all domains of life and can be catalysed by proteins with a membrane bound acyltransferase-3 ( AT3 ) domain ( PF01757 ) . In bacteria , these proteins are essential in processes including symbiosis , resistance to viruses and antimicrobials , and biosynthesis of antibiotics , yet their structure and mechanism are largely unknown . In this study , evolutionary co-variance analysis was used to build a computational model of the structure of a bacterial O-antigen modifying acetyltransferase , OafB . The resulting structure exhibited a novel fold for the AT3 domain , which molecular dynamics simulations demonstrated is stable in the membrane . The AT3 domain contains 10 transmembrane helices arranged to form a large cytoplasmic cavity lined by residues known to be essential for function . Further molecular dynamics simulations support a model where the acyl-coA donor spans the membrane through accessing a pore created by movement of an important loop capping the inner cavity , enabling OafB to present the acetyl group close to the likely catalytic resides on the extracytoplasmic surface . Limited but important interactions with the fused SGNH domain in OafB are identified , and modelling suggests this domain is mobile and can both accept acyl-groups from the AT3 and then reach beyond the membrane to reach acceptor substrates . Together this new general model of AT3 function provides a framework for the development of inhibitors that could abrogate critical functions of bacterial pathogens . \n",
      "    Lay summary of abstract: [/INST] Acylation of various carbohydrates is a common phenomenon observed across all domains of life and is facilitated by a variety of protein structures. However, the structure and mechanism of such acyltransferases have not been thoroughly investigated, particularly in the case of bacterial O-antigen modifying acetyltransferase, OafB. This study employed evolutionary co-variance analysis to construct a computational model of the structure of OafB, which exhibits a novel fold for the AT3 domain. Molecular dynamics simulations were utilized to demonstrate the stability of the AT3 domain within the membrane. The AT3 domain features ten transmembrane helices, forming a large cytoplasmic cavity, and is proposed to present the acetyl group close to the likely catalytic residues on the extracytoplasmic surface via a pore created by the movement of an important loop capping the inner cavity. Additionally, limited but significant interactions with the fused SGNH domain are identified, and modelling suggests this domain may be mobile and capable of accepting acyl-groups from the AT3 and subsequently reaching acceptor substrates. Consequently, this new general model of AT3 function provides a framework for the development of inhibitors that could abrogate critical functions of bacterial pathogens.</s>\n"
     ]
    }
   ],
   "source": [
    "generate_with_vector(\n",
    "    prompt,\n",
    "    simple_vector,\n",
    "    (2.0, -1.7),\n",
    "    max_new_tokens=2048,\n",
    ")"
   ]
  },
  {
   "cell_type": "code",
   "execution_count": 57,
   "id": "1be56f90-0b0b-4dd5-97a9-903cf98e5835",
   "metadata": {},
   "outputs": [
    {
     "name": "stdout",
     "output_type": "stream",
     "text": [
      "==baseline ---------------------------------------------------\n",
      "<s> \n",
      "    Rephrase the following abstract from a medical paper to make it more accessible and understandable to non-expert audiences, commonly referred to as \"lay summaries\".\n",
      "    [INST]Abstract: Acylation of diverse carbohydrates occurs across all domains of life and can be catalysed by proteins with a membrane bound acyltransferase-3 ( AT3 ) domain ( PF01757 ) . In bacteria , these proteins are essential in processes including symbiosis , resistance to viruses and antimicrobials , and biosynthesis of antibiotics , yet their structure and mechanism are largely unknown . In this study , evolutionary co-variance analysis was used to build a computational model of the structure of a bacterial O-antigen modifying acetyltransferase , OafB . The resulting structure exhibited a novel fold for the AT3 domain , which molecular dynamics simulations demonstrated is stable in the membrane . The AT3 domain contains 10 transmembrane helices arranged to form a large cytoplasmic cavity lined by residues known to be essential for function . Further molecular dynamics simulations support a model where the acyl-coA donor spans the membrane through accessing a pore created by movement of an important loop capping the inner cavity , enabling OafB to present the acetyl group close to the likely catalytic resides on the extracytoplasmic surface . Limited but important interactions with the fused SGNH domain in OafB are identified , and modelling suggests this domain is mobile and can both accept acyl-groups from the AT3 and then reach beyond the membrane to reach acceptor substrates . Together this new general model of AT3 function provides a framework for the development of inhibitors that could abrogate critical functions of bacterial pathogens . \n",
      "    Lay summary of abstract: [/INST] Scientists have discovered that a type of protein called acyltransferase-3 (AT3) is found in many different types of living organisms. These proteins help to add chemical groups called acyl groups to various sugars. In bacteria, these proteins play important roles in processes such as forming relationships with other organisms, protecting against viruses and antibiotics, and making antibiotics. However, scientists do not know much about how these proteins work or what they look like. To learn more about them, researchers used a computer program to create a model of the structure of one of these proteins, called OafB. They found that this protein has a unique shape and that it may work by taking in an acyl group from another molecule and presenting it to the outside of the cell. This new information about how these proteins work could help scientists develop drugs that stop them from doing their job.</s>\n",
      "\n",
      "++control ---------------------------------------------------\n",
      "<s> \n",
      "    Rephrase the following abstract from a medical paper to make it more accessible and understandable to non-expert audiences, commonly referred to as \"lay summaries\".\n",
      "    [INST]Abstract: Acylation of diverse carbohydrates occurs across all domains of life and can be catalysed by proteins with a membrane bound acyltransferase-3 ( AT3 ) domain ( PF01757 ) . In bacteria , these proteins are essential in processes including symbiosis , resistance to viruses and antimicrobials , and biosynthesis of antibiotics , yet their structure and mechanism are largely unknown . In this study , evolutionary co-variance analysis was used to build a computational model of the structure of a bacterial O-antigen modifying acetyltransferase , OafB . The resulting structure exhibited a novel fold for the AT3 domain , which molecular dynamics simulations demonstrated is stable in the membrane . The AT3 domain contains 10 transmembrane helices arranged to form a large cytoplasmic cavity lined by residues known to be essential for function . Further molecular dynamics simulations support a model where the acyl-coA donor spans the membrane through accessing a pore created by movement of an important loop capping the inner cavity , enabling OafB to present the acetyl group close to the likely catalytic resides on the extracytoplasmic surface . Limited but important interactions with the fused SGNH domain in OafB are identified , and modelling suggests this domain is mobile and can both accept acyl-groups from the AT3 and then reach beyond the membrane to reach acceptor substrates . Together this new general model of AT3 function provides a framework for the development of inhibitors that could abrogate critical functions of bacterial pathogens . \n",
      "    Lay summary of abstract: [/INST] Scientists have found out how bacteria make things like antibiotics and protect themselves from viruses. They made a computer model of how bacteria do this and found out how they work. This helps scientists find ways to stop bacteria from making things that can hurt us.</s>\n",
      "\n",
      "--control ---------------------------------------------------\n",
      "<s> \n",
      "    Rephrase the following abstract from a medical paper to make it more accessible and understandable to non-expert audiences, commonly referred to as \"lay summaries\".\n",
      "    [INST]Abstract: Acylation of diverse carbohydrates occurs across all domains of life and can be catalysed by proteins with a membrane bound acyltransferase-3 ( AT3 ) domain ( PF01757 ) . In bacteria , these proteins are essential in processes including symbiosis , resistance to viruses and antimicrobials , and biosynthesis of antibiotics , yet their structure and mechanism are largely unknown . In this study , evolutionary co-variance analysis was used to build a computational model of the structure of a bacterial O-antigen modifying acetyltransferase , OafB . The resulting structure exhibited a novel fold for the AT3 domain , which molecular dynamics simulations demonstrated is stable in the membrane . The AT3 domain contains 10 transmembrane helices arranged to form a large cytoplasmic cavity lined by residues known to be essential for function . Further molecular dynamics simulations support a model where the acyl-coA donor spans the membrane through accessing a pore created by movement of an important loop capping the inner cavity , enabling OafB to present the acetyl group close to the likely catalytic resides on the extracytoplasmic surface . Limited but important interactions with the fused SGNH domain in OafB are identified , and modelling suggests this domain is mobile and can both accept acyl-groups from the AT3 and then reach beyond the membrane to reach acceptor substrates . Together this new general model of AT3 function provides a framework for the development of inhibitors that could abrogate critical functions of bacterial pathogens . \n",
      "    Lay summary of abstract: [/INST] The acetylation of various carbohydrates is a common process observed across all domains of life. This process can be catalyzed by proteins containing a membrane-bound acyltransferase-3 (AT3) domain (PF01757). However, the structure and mechanism of these proteins remain largely unknown, particularly in the context of bacterial O-antigen modifying acetyltransferases such as OafB. To address this gap, a computational model of the structure of OafB was developed using evolutionary co-variance analysis. The resulting structure exhibits a novel fold for the AT3 domain, which was further validated through molecular dynamics simulations demonstrating its stability in the membrane. The AT3 domain contains 10 transmembrane helices arranged to form a large cytoplasmic cavity lined by residues known to be essential for function. Molecular dynamics simulations suggest that the acyl-CoA donor spans the membrane through accessing a pore created by movement of an important loop capping the inner cavity, enabling OafB to present the acetyl group close to the likely catalytic residues on the extracytoplasmic surface. Limited but important interactions with the fused SGNH domain in OafB were also identified, and modeling suggests this domain is mobile and can both accept acyl-groups from the AT3 and then reach beyond the membrane to reach acceptor substrates. Overall, this new general model of AT3 function provides a framework for the development of inhibitors that could abrogate critical functions of bacterial pathogens.</s>\n"
     ]
    }
   ],
   "source": [
    "generate_with_vector(\n",
    "    prompt,\n",
    "    simple_vector,\n",
    "    (1.0, -1.0),\n",
    "    max_new_tokens=2048,\n",
    ")"
   ]
  },
  {
   "cell_type": "code",
   "execution_count": 78,
   "id": "c378b342-541f-4e35-bcfe-989f4f5bc704",
   "metadata": {},
   "outputs": [
    {
     "name": "stdout",
     "output_type": "stream",
     "text": [
      "==baseline ---------------------------------------------------\n",
      "<s> \n",
      "    Rephrase the following abstract from a medical paper to make it more accessible and understandable to non-expert audiences, commonly referred to as \"lay summaries\".\n",
      "    [INST]Abstract: Acylation of diverse carbohydrates occurs across all domains of life and can be catalysed by proteins with a membrane bound acyltransferase-3 ( AT3 ) domain ( PF01757 ) . In bacteria , these proteins are essential in processes including symbiosis , resistance to viruses and antimicrobials , and biosynthesis of antibiotics , yet their structure and mechanism are largely unknown . In this study , evolutionary co-variance analysis was used to build a computational model of the structure of a bacterial O-antigen modifying acetyltransferase , OafB . The resulting structure exhibited a novel fold for the AT3 domain , which molecular dynamics simulations demonstrated is stable in the membrane . The AT3 domain contains 10 transmembrane helices arranged to form a large cytoplasmic cavity lined by residues known to be essential for function . Further molecular dynamics simulations support a model where the acyl-coA donor spans the membrane through accessing a pore created by movement of an important loop capping the inner cavity , enabling OafB to present the acetyl group close to the likely catalytic resides on the extracytoplasmic surface . Limited but important interactions with the fused SGNH domain in OafB are identified , and modelling suggests this domain is mobile and can both accept acyl-groups from the AT3 and then reach beyond the membrane to reach acceptor substrates . Together this new general model of AT3 function provides a framework for the development of inhibitors that could abrogate critical functions of bacterial pathogens . \n",
      "    Lay summary of abstract: [/INST] Scientists have discovered that a type of protein called acyltransferase-3 (AT3) is found in many different types of living organisms. These proteins help to add chemical groups called acyl groups to various sugars. In bacteria, these proteins play important roles in processes such as forming relationships with other organisms, protecting against viruses and antibiotics, and making antibiotics. However, scientists do not know much about how these proteins work or what they look like. To learn more about them, researchers used a computer program to create a model of the structure of one of these proteins, called OafB. They found that this protein has a unique shape and that it may work by taking in an acyl group from another molecule and presenting it to the outside of the cell. This new information about how these proteins work could help scientists develop drugs that stop them from doing their job.</s>\n",
      "\n",
      "++control ---------------------------------------------------\n",
      "<s> \n",
      "    Rephrase the following abstract from a medical paper to make it more accessible and understandable to non-expert audiences, commonly referred to as \"lay summaries\".\n",
      "    [INST]Abstract: Acylation of diverse carbohydrates occurs across all domains of life and can be catalysed by proteins with a membrane bound acyltransferase-3 ( AT3 ) domain ( PF01757 ) . In bacteria , these proteins are essential in processes including symbiosis , resistance to viruses and antimicrobials , and biosynthesis of antibiotics , yet their structure and mechanism are largely unknown . In this study , evolutionary co-variance analysis was used to build a computational model of the structure of a bacterial O-antigen modifying acetyltransferase , OafB . The resulting structure exhibited a novel fold for the AT3 domain , which molecular dynamics simulations demonstrated is stable in the membrane . The AT3 domain contains 10 transmembrane helices arranged to form a large cytoplasmic cavity lined by residues known to be essential for function . Further molecular dynamics simulations support a model where the acyl-coA donor spans the membrane through accessing a pore created by movement of an important loop capping the inner cavity , enabling OafB to present the acetyl group close to the likely catalytic resides on the extracytoplasmic surface . Limited but important interactions with the fused SGNH domain in OafB are identified , and modelling suggests this domain is mobile and can both accept acyl-groups from the AT3 and then reach beyond the membrane to reach acceptor substrates . Together this new general model of AT3 function provides a framework for the development of inhibitors that could abrogate critical functions of bacterial pathogens . \n",
      "    Lay summary of abstract: [/INST] Scientists have found a way to create a computer model of a protein that helps bacteria make things like antibiotics. This protein has a special part inside it that helps it work. Scientists used a special computer program to figure out how this part works. They also figured out how the rest of the protein works. This information will help scientists find ways to stop bacteria from making things like antibiotics.</s>\n",
      "\n",
      "--control ---------------------------------------------------\n",
      "<s> \n",
      "    Rephrase the following abstract from a medical paper to make it more accessible and understandable to non-expert audiences, commonly referred to as \"lay summaries\".\n",
      "    [INST]Abstract: Acylation of diverse carbohydrates occurs across all domains of life and can be catalysed by proteins with a membrane bound acyltransferase-3 ( AT3 ) domain ( PF01757 ) . In bacteria , these proteins are essential in processes including symbiosis , resistance to viruses and antimicrobials , and biosynthesis of antibiotics , yet their structure and mechanism are largely unknown . In this study , evolutionary co-variance analysis was used to build a computational model of the structure of a bacterial O-antigen modifying acetyltransferase , OafB . The resulting structure exhibited a novel fold for the AT3 domain , which molecular dynamics simulations demonstrated is stable in the membrane . The AT3 domain contains 10 transmembrane helices arranged to form a large cytoplasmic cavity lined by residues known to be essential for function . Further molecular dynamics simulations support a model where the acyl-coA donor spans the membrane through accessing a pore created by movement of an important loop capping the inner cavity , enabling OafB to present the acetyl group close to the likely catalytic resides on the extracytoplasmic surface . Limited but important interactions with the fused SGNH domain in OafB are identified , and modelling suggests this domain is mobile and can both accept acyl-groups from the AT3 and then reach beyond the membrane to reach acceptor substrates . Together this new general model of AT3 function provides a framework for the development of inhibitors that could abrogate critical functions of bacterial pathogens . \n",
      "    Lay summary of abstract: [/INST] This study presents a computational model of the structure of a bacterial protein responsible for acetylation of diverse carbohydrates. The resulting structure exhibits a novel fold for the AT3 domain, which is stable in the membrane. The AT3 domain contains 10 transmembrane helices arranged to form a large cytoplasmic cavity lined by residues known to be essential for function. Molecular dynamics simulations suggest that the acyl-CoA donor spans the membrane through accessing a pore created by movement of an important loop capping the inner cavity, enabling the protein to present the acetyl group close to the likely catalytic residues on the extracytoplasmic surface. Limited but important interactions with the fused SGNH domain in the protein are identified, and modeling suggests this domain is mobile and can both accept acyl-groups from the AT3 and then reach beyond the membrane to reach acceptor substrates. Together, this new general model of AT3 function provides a framework for the development of inhibitors that could abrogate critical functions of bacterial pathogens.</s>\n"
     ]
    }
   ],
   "source": [
    "generate_with_vector(\n",
    "    prompt,\n",
    "    simple_vector,\n",
    "    (0.5, -0.5),\n",
    "    max_new_tokens=2048,\n",
    ")"
   ]
  },
  {
   "cell_type": "code",
   "execution_count": 79,
   "id": "17475412-fa85-418a-8bdc-1d132f2cee6c",
   "metadata": {},
   "outputs": [
    {
     "name": "stdout",
     "output_type": "stream",
     "text": [
      "==baseline ---------------------------------------------------\n",
      "<s> \n",
      "    Rephrase the following abstract from a medical paper to make it more accessible and understandable to non-expert audiences, commonly referred to as \"lay summaries\".\n",
      "    [INST]Abstract: Acylation of diverse carbohydrates occurs across all domains of life and can be catalysed by proteins with a membrane bound acyltransferase-3 ( AT3 ) domain ( PF01757 ) . In bacteria , these proteins are essential in processes including symbiosis , resistance to viruses and antimicrobials , and biosynthesis of antibiotics , yet their structure and mechanism are largely unknown . In this study , evolutionary co-variance analysis was used to build a computational model of the structure of a bacterial O-antigen modifying acetyltransferase , OafB . The resulting structure exhibited a novel fold for the AT3 domain , which molecular dynamics simulations demonstrated is stable in the membrane . The AT3 domain contains 10 transmembrane helices arranged to form a large cytoplasmic cavity lined by residues known to be essential for function . Further molecular dynamics simulations support a model where the acyl-coA donor spans the membrane through accessing a pore created by movement of an important loop capping the inner cavity , enabling OafB to present the acetyl group close to the likely catalytic resides on the extracytoplasmic surface . Limited but important interactions with the fused SGNH domain in OafB are identified , and modelling suggests this domain is mobile and can both accept acyl-groups from the AT3 and then reach beyond the membrane to reach acceptor substrates . Together this new general model of AT3 function provides a framework for the development of inhibitors that could abrogate critical functions of bacterial pathogens . \n",
      "    Lay summary of abstract: [/INST] Scientists have discovered that a type of protein called acyltransferase-3 (AT3) is found in many different types of living organisms. These proteins help to add chemical groups called acyl groups to various sugars. In bacteria, these proteins play important roles in processes such as forming relationships with other organisms, protecting against viruses and antibiotics, and making antibiotics. However, scientists do not know much about how these proteins work or what they look like. To learn more about them, researchers used a computer program to create a model of the structure of one of these proteins, called OafB. They found that this protein has a unique shape and that it may work by taking in an acyl group from another molecule and presenting it to the outside of the cell. This new information about how these proteins work could help scientists develop drugs that stop them from doing their job.</s>\n",
      "\n",
      "++control ---------------------------------------------------\n",
      "<s> \n",
      "    Rephrase the following abstract from a medical paper to make it more accessible and understandable to non-expert audiences, commonly referred to as \"lay summaries\".\n",
      "    [INST]Abstract: Acylation of diverse carbohydrates occurs across all domains of life and can be catalysed by proteins with a membrane bound acyltransferase-3 ( AT3 ) domain ( PF01757 ) . In bacteria , these proteins are essential in processes including symbiosis , resistance to viruses and antimicrobials , and biosynthesis of antibiotics , yet their structure and mechanism are largely unknown . In this study , evolutionary co-variance analysis was used to build a computational model of the structure of a bacterial O-antigen modifying acetyltransferase , OafB . The resulting structure exhibited a novel fold for the AT3 domain , which molecular dynamics simulations demonstrated is stable in the membrane . The AT3 domain contains 10 transmembrane helices arranged to form a large cytoplasmic cavity lined by residues known to be essential for function . Further molecular dynamics simulations support a model where the acyl-coA donor spans the membrane through accessing a pore created by movement of an important loop capping the inner cavity , enabling OafB to present the acetyl group close to the likely catalytic resides on the extracytoplasmic surface . Limited but important interactions with the fused SGNH domain in OafB are identified , and modelling suggests this domain is mobile and can both accept acyl-groups from the AT3 and then reach beyond the membrane to reach acceptor substrates . Together this new general model of AT3 function provides a framework for the development of inhibitors that could abrogate critical functions of bacterial pathogens . \n",
      "    Lay summary of abstract: [/INST] Scientists have discovered that a type of protein called acyltransferase-3 (AT3) is found in many different types of living organisms. These proteins help to add chemical groups called acyl groups to other molecules called carbohydrates. In bacteria, these proteins play important roles in things like making antibiotics, protecting against viruses and drugs, and forming relationships with other organisms. However, scientists do not know much about how these proteins work or what they look like. To learn more about them, researchers used a special computer program to create a model of what the protein might look like based on its genetic code. They then used another computer program to simulate what might happen when the protein interacts with other molecules. The results showed that the protein has a unique shape and that it may work by allowing acyl groups to pass through a hole in the middle of the protein. This allows the protein to add acyl groups to other molecules on the outside of the cell. Researchers also found that the protein works together with another type of protein called SGNH, which helps to find molecules to add acyl groups to. Overall, this research provides a better understanding of how these important proteins work and could help scientists develop new ways to fight bacterial infections.</s>\n",
      "\n",
      "--control ---------------------------------------------------\n",
      "<s> \n",
      "    Rephrase the following abstract from a medical paper to make it more accessible and understandable to non-expert audiences, commonly referred to as \"lay summaries\".\n",
      "    [INST]Abstract: Acylation of diverse carbohydrates occurs across all domains of life and can be catalysed by proteins with a membrane bound acyltransferase-3 ( AT3 ) domain ( PF01757 ) . In bacteria , these proteins are essential in processes including symbiosis , resistance to viruses and antimicrobials , and biosynthesis of antibiotics , yet their structure and mechanism are largely unknown . In this study , evolutionary co-variance analysis was used to build a computational model of the structure of a bacterial O-antigen modifying acetyltransferase , OafB . The resulting structure exhibited a novel fold for the AT3 domain , which molecular dynamics simulations demonstrated is stable in the membrane . The AT3 domain contains 10 transmembrane helices arranged to form a large cytoplasmic cavity lined by residues known to be essential for function . Further molecular dynamics simulations support a model where the acyl-coA donor spans the membrane through accessing a pore created by movement of an important loop capping the inner cavity , enabling OafB to present the acetyl group close to the likely catalytic resides on the extracytoplasmic surface . Limited but important interactions with the fused SGNH domain in OafB are identified , and modelling suggests this domain is mobile and can both accept acyl-groups from the AT3 and then reach beyond the membrane to reach acceptor substrates . Together this new general model of AT3 function provides a framework for the development of inhibitors that could abrogate critical functions of bacterial pathogens . \n",
      "    Lay summary of abstract: [/INST] This study presents a computational model of the structure of a bacterial protein called OafB. OafB is responsible for adding an acetyl group to certain sugars found in the cell wall of bacteria. The researchers used a technique called evolutionary co-variance analysis to create a model of OafB's structure. They also performed molecular dynamics simulations to test the stability of the model in the membrane. The results showed that OafB has a unique fold for its acyltransferase-3 (AT3) domain, which contains 10 transmembrane helices arranged to form a large cytoplasmic cavity. The researchers also discovered that OafB uses a specific loop to allow the acyl-CoA donor to pass through the membrane and present the acetyl group to the catalytic residues on the extracytoplasmic surface. Additionally, they found that OafB interacts with a fused SGNH domain, which may help the protein to reach out and modify other molecules beyond the membrane. Overall, this study provides a new general model of AT3 function that could be useful for developing inhibitors to target critical functions of bacterial pathogens.</s>\n"
     ]
    }
   ],
   "source": [
    "generate_with_vector(\n",
    "    prompt,\n",
    "    simple_vector,\n",
    "    (0.1, -0.2),\n",
    "    max_new_tokens=2048,\n",
    ")"
   ]
  },
  {
   "cell_type": "markdown",
   "id": "c511b542-bd32-48ee-9d82-0bd792a4fac2",
   "metadata": {},
   "source": [
    "Evaluate"
   ]
  },
  {
   "cell_type": "code",
   "execution_count": 58,
   "id": "e1f22e20-3688-4213-be4f-053829579ff0",
   "metadata": {},
   "outputs": [],
   "source": [
    "from bert_score import score\n",
    "from rouge_score import rouge_scorer"
   ]
  },
  {
   "cell_type": "code",
   "execution_count": 81,
   "id": "1ef8436f-6f03-4dea-9744-4fde3010ed51",
   "metadata": {},
   "outputs": [],
   "source": [
    "pred_baseline = ['Scientists have found that many different types of living things add chemical groups called acyls to sugars. These acyls are added by proteins that have a special part called the acyltransferase-3 (AT3) domain. These proteins are important for many different processes in bacteria, such as forming relationships with other organisms, protecting against viruses and drugs, and making antibiotics. However, scientists do not know much about how these proteins work or what they look like. To learn more about them, scientists used a computer program to create a model of the structure of one of these proteins, called OafB. They found that this protein has a unique shape and that it works by taking an acyl group from inside the cell and putting it outside the cell near the place where it might be used. Scientists also found that another part of the protein, called the SGNH domain, helps the acyl group get put outside the cell. By understanding how these proteins work, scientists may be able to find ways to stop them from working, which could help fight against harmful bacteria.']\n",
    "pred_plus_2 = [\"\"\"Think of people who make food food! Just like making food, our bodies need tiny things to make everything inside our bodies. To make everything in our bodies, we need tiny things that people make. These tiny things are like food for our bodies. When our bodies make food, sometimes we need special food to help our bodies make food. This special food is like food that makes food. So, when our bodies make food, we need special food to help our bodies make food. Sometimes, our bodies have special people who make food to help our bodies make food. These people are like people who make food. And just like people who make food, the people who make food in our bodies are like people who make food. We think that everyone's food is like food that helps people make food.\"\"\"]\n",
    "pred_plus_1 = [\"\"\"Scientists have found out how bacteria make things like antibiotics and protect themselves from viruses. They made a computer model of how bacteria do this and found out how they work. This helps scientists find ways to stop bacteria from making things that can hurt us.\"\"\"]\n",
    "pred_plus_0p5 = [\"\"\"Scientists have found a way to create a computer model of a protein that helps bacteria make things like antibiotics. This protein has a special part inside it that helps it work. Scientists used a special computer program to figure out how this part works. They also figured out how the rest of the protein works. This information will help scientists find ways to stop bacteria from making things like antibiotics.\"\"\"]\n",
    "pred_plus_0p1 = [\"\"\"Scientists have discovered that a type of protein called acyltransferase-3 (AT3) is found in many different types of living organisms. These proteins help to add chemical groups called acyl groups to other molecules called carbohydrates. In bacteria, these proteins play important roles in things like making antibiotics, protecting against viruses and drugs, and forming relationships with other organisms. However, scientists do not know much about how these proteins work or what they look like. To learn more about them, researchers used a special computer program to create a model of what the protein might look like based on its genetic code. They then used another computer program to simulate what might happen when the protein interacts with other molecules. The results showed that the protein has a unique shape and that it may work by allowing acyl groups to pass through a hole in the middle of the protein. This allows the protein to add acyl groups to other molecules on the outside of the cell. Researchers also found that the protein works together with another type of protein called SGNH, which helps to find molecules to add acyl groups to. Overall, this research provides a better understanding of how these important proteins work and could help scientists develop new ways to fight bacterial infections.\"\"\"]\n",
    "pred_minus_1p7 = [\"\"\"Acylation of various carbohydrates is a common phenomenon observed across all domains of life and is facilitated by a variety of protein structures. However, the structure and mechanism of such acyltransferases have not been thoroughly investigated, particularly in the case of bacterial O-antigen modifying acetyltransferase, OafB. This study employed evolutionary co-variance analysis to construct a computational model of the structure of OafB, which exhibits a novel fold for the AT3 domain. Molecular dynamics simulations were utilized to demonstrate the stability of the AT3 domain within the membrane. The AT3 domain features ten transmembrane helices, forming a large cytoplasmic cavity, and is proposed to present the acetyl group close to the likely catalytic residues on the extracytoplasmic surface via a pore created by the movement of an important loop capping the inner cavity. Additionally, limited but significant interactions with the fused SGNH domain are identified, and modelling suggests this domain may be mobile and capable of accepting acyl-groups from the AT3 and subsequently reaching acceptor substrates. Consequently, this new general model of AT3 function provides a framework for the development of inhibitors that could abrogate critical functions of bacterial pathogens.\"\"\"]\n",
    "pred_minus_1 = [\"\"\"The acetylation of various carbohydrates is a common process observed across all domains of life. This process can be catalyzed by proteins containing a membrane-bound acyltransferase-3 (AT3) domain (PF01757). However, the structure and mechanism of these proteins remain largely unknown, particularly in the context of bacterial O-antigen modifying acetyltransferases such as OafB. To address this gap, a computational model of the structure of OafB was developed using evolutionary co-variance analysis. The resulting structure exhibits a novel fold for the AT3 domain, which was further validated through molecular dynamics simulations demonstrating its stability in the membrane. The AT3 domain contains 10 transmembrane helices arranged to form a large cytoplasmic cavity lined by residues known to be essential for function. Molecular dynamics simulations suggest that the acyl-CoA donor spans the membrane through accessing a pore created by movement of an important loop capping the inner cavity, enabling OafB to present the acetyl group close to the likely catalytic residues on the extracytoplasmic surface. Limited but important interactions with the fused SGNH domain in OafB were also identified, and modeling suggests this domain is mobile and can both accept acyl-groups from the AT3 and then reach beyond the membrane to reach acceptor substrates. Overall, this new general model of AT3 function provides a framework for the development of inhibitors that could abrogate critical functions of bacterial pathogens.\"\"\"]\n",
    "pred_minus_0p5 = [\"\"\"This study presents a computational model of the structure of a bacterial protein responsible for acetylation of diverse carbohydrates. The resulting structure exhibits a novel fold for the AT3 domain, which is stable in the membrane. The AT3 domain contains 10 transmembrane helices arranged to form a large cytoplasmic cavity lined by residues known to be essential for function. Molecular dynamics simulations suggest that the acyl-CoA donor spans the membrane through accessing a pore created by movement of an important loop capping the inner cavity, enabling the protein to present the acetyl group close to the likely catalytic residues on the extracytoplasmic surface. Limited but important interactions with the fused SGNH domain in the protein are identified, and modeling suggests this domain is mobile and can both accept acyl-groups from the AT3 and then reach beyond the membrane to reach acceptor substrates. Together, this new general model of AT3 function provides a framework for the development of inhibitors that could abrogate critical functions of bacterial pathogens.\"\"\"]\n",
    "pred_minus_0p2 = [\"\"\"This study presents a computational model of the structure of a bacterial protein called OafB. OafB is responsible for adding an acetyl group to certain sugars found in the cell wall of bacteria. The researchers used a technique called evolutionary co-variance analysis to create a model of OafB's structure. They also performed molecular dynamics simulations to test the stability of the model in the membrane. The results showed that OafB has a unique fold for its acyltransferase-3 (AT3) domain, which contains 10 transmembrane helices arranged to form a large cytoplasmic cavity. The researchers also discovered that OafB uses a specific loop to allow the acyl-CoA donor to pass through the membrane and present the acetyl group to the catalytic residues on the extracytoplasmic surface. Additionally, they found that OafB interacts with a fused SGNH domain, which may help the protein to reach out and modify other molecules beyond the membrane. Overall, this study provides a new general model of AT3 function that could be useful for developing inhibitors to target critical functions of bacterial pathogens.\"\"\"]\n",
    "\n",
    "refs = ['Acylation of diverse carbohydrates occurs across all domains of life and can be catalysed by proteins with a membrane bound acyltransferase-3 ( AT3 ) domain ( PF01757 ) . In bacteria , these proteins are essential in processes including symbiosis , resistance to viruses and antimicrobials , and biosynthesis of antibiotics , yet their structure and mechanism are largely unknown . In this study , evolutionary co-variance analysis was used to build a computational model of the structure of a bacterial O-antigen modifying acetyltransferase , OafB . The resulting structure exhibited a novel fold for the AT3 domain , which molecular dynamics simulations demonstrated is stable in the membrane . The AT3 domain contains 10 transmembrane helices arranged to form a large cytoplasmic cavity lined by residues known to be essential for function . Further molecular dynamics simulations support a model where the acyl-coA donor spans the membrane through accessing a pore created by movement of an important loop capping the inner cavity , enabling OafB to present the acetyl group close to the likely catalytic resides on the extracytoplasmic surface . Limited but important interactions with the fused SGNH domain in OafB are identified , and modelling suggests this domain is mobile and can both accept acyl-groups from the AT3 and then reach beyond the membrane to reach acceptor substrates . Together this new general model of AT3 function provides a framework for the development of inhibitors that could abrogate critical functions of bacterial pathogens . ']"
   ]
  },
  {
   "cell_type": "code",
   "execution_count": 82,
   "id": "e9574e0c-2afd-4adf-9b4d-3c225546a979",
   "metadata": {},
   "outputs": [],
   "source": [
    "all_preds = [pred_baseline, pred_plus_2, pred_plus_1, pred_plus_0p5, pred_plus_0p1, pred_minus_1p7, pred_minus_1, pred_minus_0p5, pred_minus_0p2]"
   ]
  },
  {
   "cell_type": "code",
   "execution_count": 85,
   "id": "b248ecd0-edb4-400d-9595-73e4e6aba0ff",
   "metadata": {},
   "outputs": [],
   "source": [
    "all_pairs = [(pred, refs) for pred in all_preds]"
   ]
  },
  {
   "cell_type": "code",
   "execution_count": 80,
   "id": "a6c0fb50-e987-4d1a-a1b8-7f7d81722566",
   "metadata": {},
   "outputs": [],
   "source": [
    "def batch_process_decorator(func):\n",
    "    def wrapper(list_of_pairs):\n",
    "        results = []\n",
    "        for preds, refs in list_of_pairs:\n",
    "            result = func(preds, refs)\n",
    "            results.append(result)\n",
    "        return results\n",
    "    return wrapper"
   ]
  },
  {
   "cell_type": "markdown",
   "id": "42802dae-9e27-4bca-b834-02bf3dd70fbf",
   "metadata": {},
   "source": [
    "Relevance"
   ]
  },
  {
   "cell_type": "code",
   "execution_count": 88,
   "id": "3d49b1e1-10b4-45a5-81bb-1d57d6f6025b",
   "metadata": {},
   "outputs": [],
   "source": [
    "@batch_process_decorator\n",
    "def calc_rouge(preds, refs):\n",
    "    # Get ROUGE F1 scores\n",
    "    scorer = rouge_scorer.RougeScorer(\n",
    "        [\"rouge1\", \"rouge2\", \"rougeLsum\"], use_stemmer=True, split_summaries=True\n",
    "    )\n",
    "    scores = [scorer.score(p, refs[i]) for i, p in enumerate(preds)]\n",
    "    return (\n",
    "        np.mean([s[\"rouge1\"].fmeasure for s in scores]),\n",
    "        np.mean([s[\"rouge2\"].fmeasure for s in scores]),\n",
    "        np.mean([s[\"rougeLsum\"].fmeasure for s in scores]),\n",
    "    )"
   ]
  },
  {
   "cell_type": "code",
   "execution_count": 61,
   "id": "b139d3cc-46ba-4c5a-b86b-c49d1fb3c04e",
   "metadata": {},
   "outputs": [],
   "source": [
    "def calc_bertscore(preds, refs):\n",
    "    # Get BERTScore F1 scores\n",
    "    P, R, F1 = score(preds, refs, lang=\"en\", verbose=True, device=\"cuda:0\")\n",
    "    return np.mean(F1.tolist())"
   ]
  },
  {
   "cell_type": "code",
   "execution_count": 90,
   "id": "b358aa00-b1d3-4a27-a199-5dfba19308d1",
   "metadata": {},
   "outputs": [],
   "source": [
    "rouge_result = calc_rouge(all_pairs)"
   ]
  },
  {
   "cell_type": "code",
   "execution_count": 100,
   "id": "45e1c225-8eeb-457c-a628-88cdae38c025",
   "metadata": {},
   "outputs": [],
   "source": [
    "index_names = ['pred_baseline', 'pred_plus_2', 'pred_plus_1', 'pred_plus_0p5', 'pred_plus_0p1', 'pred_minus_1p7', 'pred_minus_1', 'pred_minus_0p5', 'pred_minus_0p2']"
   ]
  },
  {
   "cell_type": "code",
   "execution_count": 101,
   "id": "81c4fb1b-1f0f-4815-b14b-6a14ae67bc61",
   "metadata": {},
   "outputs": [
    {
     "data": {
      "text/html": [
       "<div>\n",
       "<style scoped>\n",
       "    .dataframe tbody tr th:only-of-type {\n",
       "        vertical-align: middle;\n",
       "    }\n",
       "\n",
       "    .dataframe tbody tr th {\n",
       "        vertical-align: top;\n",
       "    }\n",
       "\n",
       "    .dataframe thead th {\n",
       "        text-align: right;\n",
       "    }\n",
       "</style>\n",
       "<table border=\"1\" class=\"dataframe\">\n",
       "  <thead>\n",
       "    <tr style=\"text-align: right;\">\n",
       "      <th></th>\n",
       "      <th>rouge1</th>\n",
       "      <th>rouge2</th>\n",
       "      <th>rougeLsum</th>\n",
       "    </tr>\n",
       "  </thead>\n",
       "  <tbody>\n",
       "    <tr>\n",
       "      <th>pred_baseline</th>\n",
       "      <td>0.343826</td>\n",
       "      <td>0.087591</td>\n",
       "      <td>0.314770</td>\n",
       "    </tr>\n",
       "    <tr>\n",
       "      <th>pred_plus_2</th>\n",
       "      <td>0.106952</td>\n",
       "      <td>0.000000</td>\n",
       "      <td>0.106952</td>\n",
       "    </tr>\n",
       "    <tr>\n",
       "      <th>pred_plus_1</th>\n",
       "      <td>0.115523</td>\n",
       "      <td>0.021818</td>\n",
       "      <td>0.108303</td>\n",
       "    </tr>\n",
       "    <tr>\n",
       "      <th>pred_plus_0p5</th>\n",
       "      <td>0.172185</td>\n",
       "      <td>0.033333</td>\n",
       "      <td>0.152318</td>\n",
       "    </tr>\n",
       "    <tr>\n",
       "      <th>pred_plus_0p1</th>\n",
       "      <td>0.366890</td>\n",
       "      <td>0.067416</td>\n",
       "      <td>0.335570</td>\n",
       "    </tr>\n",
       "    <tr>\n",
       "      <th>pred_minus_1p7</th>\n",
       "      <td>0.732861</td>\n",
       "      <td>0.517815</td>\n",
       "      <td>0.671395</td>\n",
       "    </tr>\n",
       "    <tr>\n",
       "      <th>pred_minus_1</th>\n",
       "      <td>0.854664</td>\n",
       "      <td>0.723312</td>\n",
       "      <td>0.824295</td>\n",
       "    </tr>\n",
       "    <tr>\n",
       "      <th>pred_minus_0p5</th>\n",
       "      <td>0.791980</td>\n",
       "      <td>0.740554</td>\n",
       "      <td>0.776942</td>\n",
       "    </tr>\n",
       "    <tr>\n",
       "      <th>pred_minus_0p2</th>\n",
       "      <td>0.619512</td>\n",
       "      <td>0.308824</td>\n",
       "      <td>0.580488</td>\n",
       "    </tr>\n",
       "  </tbody>\n",
       "</table>\n",
       "</div>"
      ],
      "text/plain": [
       "                  rouge1    rouge2  rougeLsum\n",
       "pred_baseline   0.343826  0.087591   0.314770\n",
       "pred_plus_2     0.106952  0.000000   0.106952\n",
       "pred_plus_1     0.115523  0.021818   0.108303\n",
       "pred_plus_0p5   0.172185  0.033333   0.152318\n",
       "pred_plus_0p1   0.366890  0.067416   0.335570\n",
       "pred_minus_1p7  0.732861  0.517815   0.671395\n",
       "pred_minus_1    0.854664  0.723312   0.824295\n",
       "pred_minus_0p5  0.791980  0.740554   0.776942\n",
       "pred_minus_0p2  0.619512  0.308824   0.580488"
      ]
     },
     "execution_count": 101,
     "metadata": {},
     "output_type": "execute_result"
    }
   ],
   "source": [
    "pd.DataFrame(rouge_result, columns = [\"rouge1\", \"rouge2\", \"rougeLsum\"], index=index_names)"
   ]
  },
  {
   "cell_type": "code",
   "execution_count": 92,
   "id": "bde58095-96db-4ab9-b8ee-18a66beafe9d",
   "metadata": {},
   "outputs": [],
   "source": [
    "import numpy as np\n",
    "import pandas as pd"
   ]
  },
  {
   "cell_type": "code",
   "execution_count": 63,
   "id": "97b12b75-7ba7-4b03-bd70-2d5320d141ce",
   "metadata": {},
   "outputs": [
    {
     "name": "stderr",
     "output_type": "stream",
     "text": [
      "[nltk_data] Downloading package punkt to /home/mingcong/nltk_data...\n",
      "[nltk_data]   Unzipping tokenizers/punkt.zip.\n"
     ]
    },
    {
     "data": {
      "text/plain": [
       "True"
      ]
     },
     "execution_count": 63,
     "metadata": {},
     "output_type": "execute_result"
    }
   ],
   "source": [
    "import nltk\n",
    "nltk.download('punkt')"
   ]
  },
  {
   "cell_type": "markdown",
   "id": "0cdfc04f-1160-4b04-9a62-1cff626e8070",
   "metadata": {},
   "source": [
    "Readability"
   ]
  },
  {
   "cell_type": "code",
   "execution_count": 106,
   "id": "b28dd98b-7359-41cf-81db-05f3f75c7333",
   "metadata": {},
   "outputs": [],
   "source": [
    "def batch_process_decorator(func):\n",
    "    def wrapper(list_of_pairs):\n",
    "        results = []\n",
    "        for preds in list_of_pairs:\n",
    "            result = func(preds)\n",
    "            results.append(result)\n",
    "        return results\n",
    "    return wrapper"
   ]
  },
  {
   "cell_type": "code",
   "execution_count": 107,
   "id": "ab7eaff5-6870-4bb6-9163-a99abdb2e9ed",
   "metadata": {},
   "outputs": [],
   "source": [
    "@batch_process_decorator\n",
    "def calc_readability(preds):\n",
    "    fkgl_scores = []\n",
    "    cli_scores = []\n",
    "    dcrs_scores = []\n",
    "    for pred in preds:\n",
    "        fkgl_scores.append(textstat.flesch_kincaid_grade(pred))\n",
    "        cli_scores.append(textstat.coleman_liau_index(pred))\n",
    "        dcrs_scores.append(textstat.dale_chall_readability_score(pred))\n",
    "    return np.mean(fkgl_scores), np.mean(cli_scores), np.mean(dcrs_scores)"
   ]
  },
  {
   "cell_type": "code",
   "execution_count": 74,
   "id": "8e9650ce-7c98-4a1b-b3f6-711680833d68",
   "metadata": {},
   "outputs": [],
   "source": [
    "import textstat"
   ]
  },
  {
   "cell_type": "code",
   "execution_count": 108,
   "id": "e32774f7-bb42-4e6b-8609-5c2cae94af08",
   "metadata": {},
   "outputs": [],
   "source": [
    "readability_result = calc_readability(all_preds)"
   ]
  },
  {
   "cell_type": "code",
   "execution_count": 109,
   "id": "85ef1bf6-ea67-4653-a166-6f9079f60244",
   "metadata": {},
   "outputs": [
    {
     "data": {
      "text/html": [
       "<div>\n",
       "<style scoped>\n",
       "    .dataframe tbody tr th:only-of-type {\n",
       "        vertical-align: middle;\n",
       "    }\n",
       "\n",
       "    .dataframe tbody tr th {\n",
       "        vertical-align: top;\n",
       "    }\n",
       "\n",
       "    .dataframe thead th {\n",
       "        text-align: right;\n",
       "    }\n",
       "</style>\n",
       "<table border=\"1\" class=\"dataframe\">\n",
       "  <thead>\n",
       "    <tr style=\"text-align: right;\">\n",
       "      <th></th>\n",
       "      <th>fkgl</th>\n",
       "      <th>cli</th>\n",
       "      <th>dcrs</th>\n",
       "    </tr>\n",
       "  </thead>\n",
       "  <tbody>\n",
       "    <tr>\n",
       "      <th>pred_baseline</th>\n",
       "      <td>9.7</td>\n",
       "      <td>11.32</td>\n",
       "      <td>8.25</td>\n",
       "    </tr>\n",
       "    <tr>\n",
       "      <th>pred_plus_2</th>\n",
       "      <td>3.6</td>\n",
       "      <td>6.77</td>\n",
       "      <td>1.20</td>\n",
       "    </tr>\n",
       "    <tr>\n",
       "      <th>pred_plus_1</th>\n",
       "      <td>6.9</td>\n",
       "      <td>10.14</td>\n",
       "      <td>7.83</td>\n",
       "    </tr>\n",
       "    <tr>\n",
       "      <th>pred_plus_0p5</th>\n",
       "      <td>7.6</td>\n",
       "      <td>9.97</td>\n",
       "      <td>7.68</td>\n",
       "    </tr>\n",
       "    <tr>\n",
       "      <th>pred_plus_0p1</th>\n",
       "      <td>10.5</td>\n",
       "      <td>12.18</td>\n",
       "      <td>8.52</td>\n",
       "    </tr>\n",
       "    <tr>\n",
       "      <th>pred_minus_1p7</th>\n",
       "      <td>17.4</td>\n",
       "      <td>16.66</td>\n",
       "      <td>12.33</td>\n",
       "    </tr>\n",
       "    <tr>\n",
       "      <th>pred_minus_1</th>\n",
       "      <td>15.4</td>\n",
       "      <td>16.19</td>\n",
       "      <td>11.43</td>\n",
       "    </tr>\n",
       "    <tr>\n",
       "      <th>pred_minus_0p5</th>\n",
       "      <td>15.3</td>\n",
       "      <td>14.92</td>\n",
       "      <td>11.19</td>\n",
       "    </tr>\n",
       "    <tr>\n",
       "      <th>pred_minus_0p2</th>\n",
       "      <td>11.8</td>\n",
       "      <td>13.29</td>\n",
       "      <td>10.68</td>\n",
       "    </tr>\n",
       "  </tbody>\n",
       "</table>\n",
       "</div>"
      ],
      "text/plain": [
       "                fkgl    cli   dcrs\n",
       "pred_baseline    9.7  11.32   8.25\n",
       "pred_plus_2      3.6   6.77   1.20\n",
       "pred_plus_1      6.9  10.14   7.83\n",
       "pred_plus_0p5    7.6   9.97   7.68\n",
       "pred_plus_0p1   10.5  12.18   8.52\n",
       "pred_minus_1p7  17.4  16.66  12.33\n",
       "pred_minus_1    15.4  16.19  11.43\n",
       "pred_minus_0p5  15.3  14.92  11.19\n",
       "pred_minus_0p2  11.8  13.29  10.68"
      ]
     },
     "execution_count": 109,
     "metadata": {},
     "output_type": "execute_result"
    }
   ],
   "source": [
    "pd.DataFrame(readability_result, columns = [\"fkgl\", \"cli\", \"dcrs\"], index=index_names)"
   ]
  },
  {
   "cell_type": "markdown",
   "id": "f2ec8b30-d92d-4359-81de-69f253ab9529",
   "metadata": {},
   "source": [
    "Factuality"
   ]
  },
  {
   "cell_type": "code",
   "execution_count": 110,
   "id": "da57d63e-c0bd-474a-bae4-6856ad648c19",
   "metadata": {},
   "outputs": [],
   "source": [
    "def calc_alignscore(preds, docs):\n",
    "    alignscorer = AlignScore(\n",
    "        model=\"distilroberta-base\",\n",
    "        batch_size=8,\n",
    "        device=\"cuda:0\",\n",
    "        ckpt_path=\"../../models/AlignScore-base.ckpt\",\n",
    "        evaluation_mode=\"nli_sp\",\n",
    "    )\n",
    "    return np.mean(alignscorer.score(contexts=docs, claims=preds))"
   ]
  },
  {
   "cell_type": "code",
   "execution_count": 111,
   "id": "7127f8a3-decc-4137-981a-6db1373ed177",
   "metadata": {},
   "outputs": [],
   "source": [
    "def cal_summac(preds, docs):\n",
    "    model_conv = SummaCConv(\n",
    "        models=[\"vitc-base\"],\n",
    "        bins=\"percentile\",\n",
    "        granularity=\"sentence\",\n",
    "        nli_labels=\"e\",\n",
    "        device=\"cuda\",\n",
    "        start_file=\"default\",\n",
    "        agg=\"mean\",\n",
    "    )\n",
    "    return np.mean(model_conv.score(docs, preds)[\"scores\"])"
   ]
  },
  {
   "cell_type": "code",
   "execution_count": 119,
   "id": "4741d009-da51-4789-a889-09914baa2f35",
   "metadata": {},
   "outputs": [],
   "source": [
    "docs = [data[0][\"article\"]]"
   ]
  },
  {
   "cell_type": "code",
   "execution_count": 121,
   "id": "d40f162d-9f65-4586-abff-9e99019de38e",
   "metadata": {},
   "outputs": [],
   "source": [
    "from alignscore import AlignScore"
   ]
  },
  {
   "cell_type": "code",
   "execution_count": 122,
   "id": "8eac7867-4371-4bae-aeec-31d7e6df6890",
   "metadata": {
    "scrolled": true
   },
   "outputs": [
    {
     "ename": "FileNotFoundError",
     "evalue": "[Errno 2] No such file or directory: '/home/mingcong/scripts/../../models/AlignScore-base.ckpt'",
     "output_type": "error",
     "traceback": [
      "\u001b[0;31m---------------------------------------------------------------------------\u001b[0m",
      "\u001b[0;31mFileNotFoundError\u001b[0m                         Traceback (most recent call last)",
      "Cell \u001b[0;32mIn[122], line 1\u001b[0m\n\u001b[0;32m----> 1\u001b[0m \u001b[38;5;28mprint\u001b[39m(\u001b[43mcalc_alignscore\u001b[49m\u001b[43m(\u001b[49m\u001b[43mpred_baseline\u001b[49m\u001b[43m,\u001b[49m\u001b[43m \u001b[49m\u001b[43mdocs\u001b[49m\u001b[43m)\u001b[49m)\n\u001b[1;32m      2\u001b[0m \u001b[38;5;28mprint\u001b[39m(calc_alignscore(pred_plus_control, docs))\n\u001b[1;32m      3\u001b[0m \u001b[38;5;28mprint\u001b[39m(calc_alignscore(pred_minus_control, docs))\n",
      "Cell \u001b[0;32mIn[110], line 2\u001b[0m, in \u001b[0;36mcalc_alignscore\u001b[0;34m(preds, docs)\u001b[0m\n\u001b[1;32m      1\u001b[0m \u001b[38;5;28;01mdef\u001b[39;00m \u001b[38;5;21mcalc_alignscore\u001b[39m(preds, docs):\n\u001b[0;32m----> 2\u001b[0m     alignscorer \u001b[38;5;241m=\u001b[39m \u001b[43mAlignScore\u001b[49m\u001b[43m(\u001b[49m\n\u001b[1;32m      3\u001b[0m \u001b[43m        \u001b[49m\u001b[43mmodel\u001b[49m\u001b[38;5;241;43m=\u001b[39;49m\u001b[38;5;124;43m\"\u001b[39;49m\u001b[38;5;124;43mdistilroberta-base\u001b[39;49m\u001b[38;5;124;43m\"\u001b[39;49m\u001b[43m,\u001b[49m\n\u001b[1;32m      4\u001b[0m \u001b[43m        \u001b[49m\u001b[43mbatch_size\u001b[49m\u001b[38;5;241;43m=\u001b[39;49m\u001b[38;5;241;43m8\u001b[39;49m\u001b[43m,\u001b[49m\n\u001b[1;32m      5\u001b[0m \u001b[43m        \u001b[49m\u001b[43mdevice\u001b[49m\u001b[38;5;241;43m=\u001b[39;49m\u001b[38;5;124;43m\"\u001b[39;49m\u001b[38;5;124;43mcuda:0\u001b[39;49m\u001b[38;5;124;43m\"\u001b[39;49m\u001b[43m,\u001b[49m\n\u001b[1;32m      6\u001b[0m \u001b[43m        \u001b[49m\u001b[43mckpt_path\u001b[49m\u001b[38;5;241;43m=\u001b[39;49m\u001b[38;5;124;43m\"\u001b[39;49m\u001b[38;5;124;43m../../models/AlignScore-base.ckpt\u001b[39;49m\u001b[38;5;124;43m\"\u001b[39;49m\u001b[43m,\u001b[49m\n\u001b[1;32m      7\u001b[0m \u001b[43m        \u001b[49m\u001b[43mevaluation_mode\u001b[49m\u001b[38;5;241;43m=\u001b[39;49m\u001b[38;5;124;43m\"\u001b[39;49m\u001b[38;5;124;43mnli_sp\u001b[39;49m\u001b[38;5;124;43m\"\u001b[39;49m\u001b[43m,\u001b[49m\n\u001b[1;32m      8\u001b[0m \u001b[43m    \u001b[49m\u001b[43m)\u001b[49m\n\u001b[1;32m      9\u001b[0m     \u001b[38;5;28;01mreturn\u001b[39;00m np\u001b[38;5;241m.\u001b[39mmean(alignscorer\u001b[38;5;241m.\u001b[39mscore(contexts\u001b[38;5;241m=\u001b[39mdocs, claims\u001b[38;5;241m=\u001b[39mpreds))\n",
      "File \u001b[0;32m~/.local/lib/python3.11/site-packages/alignscore/alignscore.py:6\u001b[0m, in \u001b[0;36mAlignScore.__init__\u001b[0;34m(self, model, batch_size, device, ckpt_path, evaluation_mode, verbose)\u001b[0m\n\u001b[1;32m      5\u001b[0m \u001b[38;5;28;01mdef\u001b[39;00m \u001b[38;5;21m__init__\u001b[39m(\u001b[38;5;28mself\u001b[39m, model: \u001b[38;5;28mstr\u001b[39m, batch_size: \u001b[38;5;28mint\u001b[39m, device: \u001b[38;5;28mint\u001b[39m, ckpt_path: \u001b[38;5;28mstr\u001b[39m, evaluation_mode\u001b[38;5;241m=\u001b[39m\u001b[38;5;124m'\u001b[39m\u001b[38;5;124mnli_sp\u001b[39m\u001b[38;5;124m'\u001b[39m, verbose\u001b[38;5;241m=\u001b[39m\u001b[38;5;28;01mTrue\u001b[39;00m) \u001b[38;5;241m-\u001b[39m\u001b[38;5;241m>\u001b[39m \u001b[38;5;28;01mNone\u001b[39;00m:\n\u001b[0;32m----> 6\u001b[0m     \u001b[38;5;28mself\u001b[39m\u001b[38;5;241m.\u001b[39mmodel \u001b[38;5;241m=\u001b[39m \u001b[43mInferencer\u001b[49m\u001b[43m(\u001b[49m\n\u001b[1;32m      7\u001b[0m \u001b[43m        \u001b[49m\u001b[43mckpt_path\u001b[49m\u001b[38;5;241;43m=\u001b[39;49m\u001b[43mckpt_path\u001b[49m\u001b[43m,\u001b[49m\u001b[43m \u001b[49m\n\u001b[1;32m      8\u001b[0m \u001b[43m        \u001b[49m\u001b[43mmodel\u001b[49m\u001b[38;5;241;43m=\u001b[39;49m\u001b[43mmodel\u001b[49m\u001b[43m,\u001b[49m\n\u001b[1;32m      9\u001b[0m \u001b[43m        \u001b[49m\u001b[43mbatch_size\u001b[49m\u001b[38;5;241;43m=\u001b[39;49m\u001b[43mbatch_size\u001b[49m\u001b[43m,\u001b[49m\u001b[43m \u001b[49m\n\u001b[1;32m     10\u001b[0m \u001b[43m        \u001b[49m\u001b[43mdevice\u001b[49m\u001b[38;5;241;43m=\u001b[39;49m\u001b[43mdevice\u001b[49m\u001b[43m,\u001b[49m\n\u001b[1;32m     11\u001b[0m \u001b[43m        \u001b[49m\u001b[43mverbose\u001b[49m\u001b[38;5;241;43m=\u001b[39;49m\u001b[43mverbose\u001b[49m\n\u001b[1;32m     12\u001b[0m \u001b[43m    \u001b[49m\u001b[43m)\u001b[49m\n\u001b[1;32m     13\u001b[0m     \u001b[38;5;28mself\u001b[39m\u001b[38;5;241m.\u001b[39mmodel\u001b[38;5;241m.\u001b[39mnlg_eval_mode \u001b[38;5;241m=\u001b[39m evaluation_mode\n",
      "File \u001b[0;32m~/.local/lib/python3.11/site-packages/alignscore/inference.py:14\u001b[0m, in \u001b[0;36mInferencer.__init__\u001b[0;34m(self, ckpt_path, model, batch_size, device, verbose)\u001b[0m\n\u001b[1;32m     12\u001b[0m \u001b[38;5;28mself\u001b[39m\u001b[38;5;241m.\u001b[39mdevice \u001b[38;5;241m=\u001b[39m device\n\u001b[1;32m     13\u001b[0m \u001b[38;5;28;01mif\u001b[39;00m ckpt_path \u001b[38;5;129;01mis\u001b[39;00m \u001b[38;5;129;01mnot\u001b[39;00m \u001b[38;5;28;01mNone\u001b[39;00m:\n\u001b[0;32m---> 14\u001b[0m     \u001b[38;5;28mself\u001b[39m\u001b[38;5;241m.\u001b[39mmodel \u001b[38;5;241m=\u001b[39m \u001b[43mBERTAlignModel\u001b[49m\u001b[38;5;241;43m.\u001b[39;49m\u001b[43mload_from_checkpoint\u001b[49m\u001b[43m(\u001b[49m\u001b[43mcheckpoint_path\u001b[49m\u001b[38;5;241;43m=\u001b[39;49m\u001b[43mckpt_path\u001b[49m\u001b[43m,\u001b[49m\u001b[43m \u001b[49m\u001b[43mstrict\u001b[49m\u001b[38;5;241;43m=\u001b[39;49m\u001b[38;5;28;43;01mFalse\u001b[39;49;00m\u001b[43m)\u001b[49m\u001b[38;5;241m.\u001b[39mto(\u001b[38;5;28mself\u001b[39m\u001b[38;5;241m.\u001b[39mdevice)\n\u001b[1;32m     15\u001b[0m \u001b[38;5;28;01melse\u001b[39;00m:\n\u001b[1;32m     16\u001b[0m     warning(\u001b[38;5;124m'\u001b[39m\u001b[38;5;124mloading UNTRAINED model!\u001b[39m\u001b[38;5;124m'\u001b[39m)\n",
      "File \u001b[0;32m~/.local/lib/python3.11/site-packages/pytorch_lightning/utilities/model_helpers.py:125\u001b[0m, in \u001b[0;36m_restricted_classmethod_impl.__get__.<locals>.wrapper\u001b[0;34m(*args, **kwargs)\u001b[0m\n\u001b[1;32m    120\u001b[0m \u001b[38;5;28;01mif\u001b[39;00m instance \u001b[38;5;129;01mis\u001b[39;00m \u001b[38;5;129;01mnot\u001b[39;00m \u001b[38;5;28;01mNone\u001b[39;00m \u001b[38;5;129;01mand\u001b[39;00m \u001b[38;5;129;01mnot\u001b[39;00m is_scripting:\n\u001b[1;32m    121\u001b[0m     \u001b[38;5;28;01mraise\u001b[39;00m \u001b[38;5;167;01mTypeError\u001b[39;00m(\n\u001b[1;32m    122\u001b[0m         \u001b[38;5;124mf\u001b[39m\u001b[38;5;124m\"\u001b[39m\u001b[38;5;124mThe classmethod `\u001b[39m\u001b[38;5;132;01m{\u001b[39;00m\u001b[38;5;28mcls\u001b[39m\u001b[38;5;241m.\u001b[39m\u001b[38;5;18m__name__\u001b[39m\u001b[38;5;132;01m}\u001b[39;00m\u001b[38;5;124m.\u001b[39m\u001b[38;5;132;01m{\u001b[39;00m\u001b[38;5;28mself\u001b[39m\u001b[38;5;241m.\u001b[39mmethod\u001b[38;5;241m.\u001b[39m\u001b[38;5;18m__name__\u001b[39m\u001b[38;5;132;01m}\u001b[39;00m\u001b[38;5;124m` cannot be called on an instance.\u001b[39m\u001b[38;5;124m\"\u001b[39m\n\u001b[1;32m    123\u001b[0m         \u001b[38;5;124m\"\u001b[39m\u001b[38;5;124m Please call it on the class type and make sure the return value is used.\u001b[39m\u001b[38;5;124m\"\u001b[39m\n\u001b[1;32m    124\u001b[0m     )\n\u001b[0;32m--> 125\u001b[0m \u001b[38;5;28;01mreturn\u001b[39;00m \u001b[38;5;28;43mself\u001b[39;49m\u001b[38;5;241;43m.\u001b[39;49m\u001b[43mmethod\u001b[49m\u001b[43m(\u001b[49m\u001b[38;5;28;43mcls\u001b[39;49m\u001b[43m,\u001b[49m\u001b[43m \u001b[49m\u001b[38;5;241;43m*\u001b[39;49m\u001b[43margs\u001b[49m\u001b[43m,\u001b[49m\u001b[43m \u001b[49m\u001b[38;5;241;43m*\u001b[39;49m\u001b[38;5;241;43m*\u001b[39;49m\u001b[43mkwargs\u001b[49m\u001b[43m)\u001b[49m\n",
      "File \u001b[0;32m~/.local/lib/python3.11/site-packages/pytorch_lightning/core/module.py:1581\u001b[0m, in \u001b[0;36mLightningModule.load_from_checkpoint\u001b[0;34m(cls, checkpoint_path, map_location, hparams_file, strict, **kwargs)\u001b[0m\n\u001b[1;32m   1492\u001b[0m \u001b[38;5;129m@_restricted_classmethod\u001b[39m\n\u001b[1;32m   1493\u001b[0m \u001b[38;5;28;01mdef\u001b[39;00m \u001b[38;5;21mload_from_checkpoint\u001b[39m(\n\u001b[1;32m   1494\u001b[0m     \u001b[38;5;28mcls\u001b[39m,\n\u001b[0;32m   (...)\u001b[0m\n\u001b[1;32m   1499\u001b[0m     \u001b[38;5;241m*\u001b[39m\u001b[38;5;241m*\u001b[39mkwargs: Any,\n\u001b[1;32m   1500\u001b[0m ) \u001b[38;5;241m-\u001b[39m\u001b[38;5;241m>\u001b[39m Self:\n\u001b[1;32m   1501\u001b[0m \u001b[38;5;250m    \u001b[39m\u001b[38;5;124mr\u001b[39m\u001b[38;5;124;03m\"\"\"Primary way of loading a model from a checkpoint. When Lightning saves a checkpoint it stores the arguments\u001b[39;00m\n\u001b[1;32m   1502\u001b[0m \u001b[38;5;124;03m    passed to ``__init__``  in the checkpoint under ``\"hyper_parameters\"``.\u001b[39;00m\n\u001b[1;32m   1503\u001b[0m \n\u001b[0;32m   (...)\u001b[0m\n\u001b[1;32m   1579\u001b[0m \n\u001b[1;32m   1580\u001b[0m \u001b[38;5;124;03m    \"\"\"\u001b[39;00m\n\u001b[0;32m-> 1581\u001b[0m     loaded \u001b[38;5;241m=\u001b[39m \u001b[43m_load_from_checkpoint\u001b[49m\u001b[43m(\u001b[49m\n\u001b[1;32m   1582\u001b[0m \u001b[43m        \u001b[49m\u001b[38;5;28;43mcls\u001b[39;49m\u001b[43m,\u001b[49m\u001b[43m  \u001b[49m\u001b[38;5;66;43;03m# type: ignore[arg-type]\u001b[39;49;00m\n\u001b[1;32m   1583\u001b[0m \u001b[43m        \u001b[49m\u001b[43mcheckpoint_path\u001b[49m\u001b[43m,\u001b[49m\n\u001b[1;32m   1584\u001b[0m \u001b[43m        \u001b[49m\u001b[43mmap_location\u001b[49m\u001b[43m,\u001b[49m\n\u001b[1;32m   1585\u001b[0m \u001b[43m        \u001b[49m\u001b[43mhparams_file\u001b[49m\u001b[43m,\u001b[49m\n\u001b[1;32m   1586\u001b[0m \u001b[43m        \u001b[49m\u001b[43mstrict\u001b[49m\u001b[43m,\u001b[49m\n\u001b[1;32m   1587\u001b[0m \u001b[43m        \u001b[49m\u001b[38;5;241;43m*\u001b[39;49m\u001b[38;5;241;43m*\u001b[39;49m\u001b[43mkwargs\u001b[49m\u001b[43m,\u001b[49m\n\u001b[1;32m   1588\u001b[0m \u001b[43m    \u001b[49m\u001b[43m)\u001b[49m\n\u001b[1;32m   1589\u001b[0m     \u001b[38;5;28;01mreturn\u001b[39;00m cast(Self, loaded)\n",
      "File \u001b[0;32m~/.local/lib/python3.11/site-packages/pytorch_lightning/core/saving.py:63\u001b[0m, in \u001b[0;36m_load_from_checkpoint\u001b[0;34m(cls, checkpoint_path, map_location, hparams_file, strict, **kwargs)\u001b[0m\n\u001b[1;32m     61\u001b[0m map_location \u001b[38;5;241m=\u001b[39m map_location \u001b[38;5;129;01mor\u001b[39;00m _default_map_location\n\u001b[1;32m     62\u001b[0m \u001b[38;5;28;01mwith\u001b[39;00m pl_legacy_patch():\n\u001b[0;32m---> 63\u001b[0m     checkpoint \u001b[38;5;241m=\u001b[39m \u001b[43mpl_load\u001b[49m\u001b[43m(\u001b[49m\u001b[43mcheckpoint_path\u001b[49m\u001b[43m,\u001b[49m\u001b[43m \u001b[49m\u001b[43mmap_location\u001b[49m\u001b[38;5;241;43m=\u001b[39;49m\u001b[43mmap_location\u001b[49m\u001b[43m)\u001b[49m\n\u001b[1;32m     65\u001b[0m \u001b[38;5;66;03m# convert legacy checkpoints to the new format\u001b[39;00m\n\u001b[1;32m     66\u001b[0m checkpoint \u001b[38;5;241m=\u001b[39m _pl_migrate_checkpoint(\n\u001b[1;32m     67\u001b[0m     checkpoint, checkpoint_path\u001b[38;5;241m=\u001b[39m(checkpoint_path \u001b[38;5;28;01mif\u001b[39;00m \u001b[38;5;28misinstance\u001b[39m(checkpoint_path, (\u001b[38;5;28mstr\u001b[39m, Path)) \u001b[38;5;28;01melse\u001b[39;00m \u001b[38;5;28;01mNone\u001b[39;00m)\n\u001b[1;32m     68\u001b[0m )\n",
      "File \u001b[0;32m~/.local/lib/python3.11/site-packages/lightning_fabric/utilities/cloud_io.py:56\u001b[0m, in \u001b[0;36m_load\u001b[0;34m(path_or_url, map_location)\u001b[0m\n\u001b[1;32m     51\u001b[0m     \u001b[38;5;28;01mreturn\u001b[39;00m torch\u001b[38;5;241m.\u001b[39mhub\u001b[38;5;241m.\u001b[39mload_state_dict_from_url(\n\u001b[1;32m     52\u001b[0m         \u001b[38;5;28mstr\u001b[39m(path_or_url),\n\u001b[1;32m     53\u001b[0m         map_location\u001b[38;5;241m=\u001b[39mmap_location,  \u001b[38;5;66;03m# type: ignore[arg-type]\u001b[39;00m\n\u001b[1;32m     54\u001b[0m     )\n\u001b[1;32m     55\u001b[0m fs \u001b[38;5;241m=\u001b[39m get_filesystem(path_or_url)\n\u001b[0;32m---> 56\u001b[0m \u001b[38;5;28;01mwith\u001b[39;00m \u001b[43mfs\u001b[49m\u001b[38;5;241;43m.\u001b[39;49m\u001b[43mopen\u001b[49m\u001b[43m(\u001b[49m\u001b[43mpath_or_url\u001b[49m\u001b[43m,\u001b[49m\u001b[43m \u001b[49m\u001b[38;5;124;43m\"\u001b[39;49m\u001b[38;5;124;43mrb\u001b[39;49m\u001b[38;5;124;43m\"\u001b[39;49m\u001b[43m)\u001b[49m \u001b[38;5;28;01mas\u001b[39;00m f:\n\u001b[1;32m     57\u001b[0m     \u001b[38;5;28;01mreturn\u001b[39;00m torch\u001b[38;5;241m.\u001b[39mload(f, map_location\u001b[38;5;241m=\u001b[39mmap_location)\n",
      "File \u001b[0;32m~/.local/lib/python3.11/site-packages/fsspec/spec.py:1293\u001b[0m, in \u001b[0;36mAbstractFileSystem.open\u001b[0;34m(self, path, mode, block_size, cache_options, compression, **kwargs)\u001b[0m\n\u001b[1;32m   1291\u001b[0m \u001b[38;5;28;01melse\u001b[39;00m:\n\u001b[1;32m   1292\u001b[0m     ac \u001b[38;5;241m=\u001b[39m kwargs\u001b[38;5;241m.\u001b[39mpop(\u001b[38;5;124m\"\u001b[39m\u001b[38;5;124mautocommit\u001b[39m\u001b[38;5;124m\"\u001b[39m, \u001b[38;5;129;01mnot\u001b[39;00m \u001b[38;5;28mself\u001b[39m\u001b[38;5;241m.\u001b[39m_intrans)\n\u001b[0;32m-> 1293\u001b[0m     f \u001b[38;5;241m=\u001b[39m \u001b[38;5;28;43mself\u001b[39;49m\u001b[38;5;241;43m.\u001b[39;49m\u001b[43m_open\u001b[49m\u001b[43m(\u001b[49m\n\u001b[1;32m   1294\u001b[0m \u001b[43m        \u001b[49m\u001b[43mpath\u001b[49m\u001b[43m,\u001b[49m\n\u001b[1;32m   1295\u001b[0m \u001b[43m        \u001b[49m\u001b[43mmode\u001b[49m\u001b[38;5;241;43m=\u001b[39;49m\u001b[43mmode\u001b[49m\u001b[43m,\u001b[49m\n\u001b[1;32m   1296\u001b[0m \u001b[43m        \u001b[49m\u001b[43mblock_size\u001b[49m\u001b[38;5;241;43m=\u001b[39;49m\u001b[43mblock_size\u001b[49m\u001b[43m,\u001b[49m\n\u001b[1;32m   1297\u001b[0m \u001b[43m        \u001b[49m\u001b[43mautocommit\u001b[49m\u001b[38;5;241;43m=\u001b[39;49m\u001b[43mac\u001b[49m\u001b[43m,\u001b[49m\n\u001b[1;32m   1298\u001b[0m \u001b[43m        \u001b[49m\u001b[43mcache_options\u001b[49m\u001b[38;5;241;43m=\u001b[39;49m\u001b[43mcache_options\u001b[49m\u001b[43m,\u001b[49m\n\u001b[1;32m   1299\u001b[0m \u001b[43m        \u001b[49m\u001b[38;5;241;43m*\u001b[39;49m\u001b[38;5;241;43m*\u001b[39;49m\u001b[43mkwargs\u001b[49m\u001b[43m,\u001b[49m\n\u001b[1;32m   1300\u001b[0m \u001b[43m    \u001b[49m\u001b[43m)\u001b[49m\n\u001b[1;32m   1301\u001b[0m     \u001b[38;5;28;01mif\u001b[39;00m compression \u001b[38;5;129;01mis\u001b[39;00m \u001b[38;5;129;01mnot\u001b[39;00m \u001b[38;5;28;01mNone\u001b[39;00m:\n\u001b[1;32m   1302\u001b[0m         \u001b[38;5;28;01mfrom\u001b[39;00m \u001b[38;5;21;01mfsspec\u001b[39;00m\u001b[38;5;21;01m.\u001b[39;00m\u001b[38;5;21;01mcompression\u001b[39;00m \u001b[38;5;28;01mimport\u001b[39;00m compr\n",
      "File \u001b[0;32m~/.local/lib/python3.11/site-packages/fsspec/implementations/local.py:184\u001b[0m, in \u001b[0;36mLocalFileSystem._open\u001b[0;34m(self, path, mode, block_size, **kwargs)\u001b[0m\n\u001b[1;32m    182\u001b[0m \u001b[38;5;28;01mif\u001b[39;00m \u001b[38;5;28mself\u001b[39m\u001b[38;5;241m.\u001b[39mauto_mkdir \u001b[38;5;129;01mand\u001b[39;00m \u001b[38;5;124m\"\u001b[39m\u001b[38;5;124mw\u001b[39m\u001b[38;5;124m\"\u001b[39m \u001b[38;5;129;01min\u001b[39;00m mode:\n\u001b[1;32m    183\u001b[0m     \u001b[38;5;28mself\u001b[39m\u001b[38;5;241m.\u001b[39mmakedirs(\u001b[38;5;28mself\u001b[39m\u001b[38;5;241m.\u001b[39m_parent(path), exist_ok\u001b[38;5;241m=\u001b[39m\u001b[38;5;28;01mTrue\u001b[39;00m)\n\u001b[0;32m--> 184\u001b[0m \u001b[38;5;28;01mreturn\u001b[39;00m \u001b[43mLocalFileOpener\u001b[49m\u001b[43m(\u001b[49m\u001b[43mpath\u001b[49m\u001b[43m,\u001b[49m\u001b[43m \u001b[49m\u001b[43mmode\u001b[49m\u001b[43m,\u001b[49m\u001b[43m \u001b[49m\u001b[43mfs\u001b[49m\u001b[38;5;241;43m=\u001b[39;49m\u001b[38;5;28;43mself\u001b[39;49m\u001b[43m,\u001b[49m\u001b[43m \u001b[49m\u001b[38;5;241;43m*\u001b[39;49m\u001b[38;5;241;43m*\u001b[39;49m\u001b[43mkwargs\u001b[49m\u001b[43m)\u001b[49m\n",
      "File \u001b[0;32m~/.local/lib/python3.11/site-packages/fsspec/implementations/local.py:306\u001b[0m, in \u001b[0;36mLocalFileOpener.__init__\u001b[0;34m(self, path, mode, autocommit, fs, compression, **kwargs)\u001b[0m\n\u001b[1;32m    304\u001b[0m \u001b[38;5;28mself\u001b[39m\u001b[38;5;241m.\u001b[39mcompression \u001b[38;5;241m=\u001b[39m get_compression(path, compression)\n\u001b[1;32m    305\u001b[0m \u001b[38;5;28mself\u001b[39m\u001b[38;5;241m.\u001b[39mblocksize \u001b[38;5;241m=\u001b[39m io\u001b[38;5;241m.\u001b[39mDEFAULT_BUFFER_SIZE\n\u001b[0;32m--> 306\u001b[0m \u001b[38;5;28;43mself\u001b[39;49m\u001b[38;5;241;43m.\u001b[39;49m\u001b[43m_open\u001b[49m\u001b[43m(\u001b[49m\u001b[43m)\u001b[49m\n",
      "File \u001b[0;32m~/.local/lib/python3.11/site-packages/fsspec/implementations/local.py:311\u001b[0m, in \u001b[0;36mLocalFileOpener._open\u001b[0;34m(self)\u001b[0m\n\u001b[1;32m    309\u001b[0m \u001b[38;5;28;01mif\u001b[39;00m \u001b[38;5;28mself\u001b[39m\u001b[38;5;241m.\u001b[39mf \u001b[38;5;129;01mis\u001b[39;00m \u001b[38;5;28;01mNone\u001b[39;00m \u001b[38;5;129;01mor\u001b[39;00m \u001b[38;5;28mself\u001b[39m\u001b[38;5;241m.\u001b[39mf\u001b[38;5;241m.\u001b[39mclosed:\n\u001b[1;32m    310\u001b[0m     \u001b[38;5;28;01mif\u001b[39;00m \u001b[38;5;28mself\u001b[39m\u001b[38;5;241m.\u001b[39mautocommit \u001b[38;5;129;01mor\u001b[39;00m \u001b[38;5;124m\"\u001b[39m\u001b[38;5;124mw\u001b[39m\u001b[38;5;124m\"\u001b[39m \u001b[38;5;129;01mnot\u001b[39;00m \u001b[38;5;129;01min\u001b[39;00m \u001b[38;5;28mself\u001b[39m\u001b[38;5;241m.\u001b[39mmode:\n\u001b[0;32m--> 311\u001b[0m         \u001b[38;5;28mself\u001b[39m\u001b[38;5;241m.\u001b[39mf \u001b[38;5;241m=\u001b[39m \u001b[38;5;28;43mopen\u001b[39;49m\u001b[43m(\u001b[49m\u001b[38;5;28;43mself\u001b[39;49m\u001b[38;5;241;43m.\u001b[39;49m\u001b[43mpath\u001b[49m\u001b[43m,\u001b[49m\u001b[43m \u001b[49m\u001b[43mmode\u001b[49m\u001b[38;5;241;43m=\u001b[39;49m\u001b[38;5;28;43mself\u001b[39;49m\u001b[38;5;241;43m.\u001b[39;49m\u001b[43mmode\u001b[49m\u001b[43m)\u001b[49m\n\u001b[1;32m    312\u001b[0m         \u001b[38;5;28;01mif\u001b[39;00m \u001b[38;5;28mself\u001b[39m\u001b[38;5;241m.\u001b[39mcompression:\n\u001b[1;32m    313\u001b[0m             compress \u001b[38;5;241m=\u001b[39m compr[\u001b[38;5;28mself\u001b[39m\u001b[38;5;241m.\u001b[39mcompression]\n",
      "\u001b[0;31mFileNotFoundError\u001b[0m: [Errno 2] No such file or directory: '/home/mingcong/scripts/../../models/AlignScore-base.ckpt'"
     ]
    }
   ],
   "source": [
    "print(calc_alignscore(pred_baseline, docs))\n",
    "print(calc_alignscore(pred_plus_control, docs))\n",
    "print(calc_alignscore(pred_minus_control, docs))"
   ]
  },
  {
   "cell_type": "code",
   "execution_count": 124,
   "id": "beb85328-54f5-4219-80ba-c2673a4e8f66",
   "metadata": {},
   "outputs": [],
   "source": [
    "from summac.model_summac import SummaCConv"
   ]
  },
  {
   "cell_type": "code",
   "execution_count": 125,
   "id": "bbf95b1d-437c-4042-9c69-07d33ceff37a",
   "metadata": {},
   "outputs": [
    {
     "name": "stderr",
     "output_type": "stream",
     "text": [
      "--2024-03-29 14:13:33--  https://github.com/tingofurro/summac/raw/master/summac_conv_vitc_sent_perc_e.bin\n",
      "Loaded CA certificate '/etc/ssl/certs/ca-certificates.crt'\n",
      "Resolving github.com (github.com)... 140.82.114.4\n",
      "Connecting to github.com (github.com)|140.82.114.4|:443... connected.\n",
      "HTTP request sent, awaiting response... 302 Found\n",
      "Location: https://raw.githubusercontent.com/tingofurro/summac/master/summac_conv_vitc_sent_perc_e.bin [following]\n",
      "--2024-03-29 14:13:33--  https://raw.githubusercontent.com/tingofurro/summac/master/summac_conv_vitc_sent_perc_e.bin\n",
      "Resolving raw.githubusercontent.com (raw.githubusercontent.com)... 185.199.109.133, 185.199.110.133, 185.199.111.133, ...\n",
      "Connecting to raw.githubusercontent.com (raw.githubusercontent.com)|185.199.109.133|:443... connected.\n",
      "HTTP request sent, awaiting response... 200 OK\n",
      "Length: 1811 (1.8K) [application/octet-stream]\n",
      "Saving to: ‘summac_conv_vitc_sent_perc_e.bin’\n",
      "\n",
      "     0K .                                                     100% 51.2M=0s\n",
      "\n",
      "2024-03-29 14:13:33 (51.2 MB/s) - ‘summac_conv_vitc_sent_perc_e.bin’ saved [1811/1811]\n",
      "\n"
     ]
    },
    {
     "name": "stdout",
     "output_type": "stream",
     "text": [
      "<All keys matched successfully>\n"
     ]
    },
    {
     "data": {
      "application/vnd.jupyter.widget-view+json": {
       "model_id": "ba8930117de34d4c9692509f0e950f4a",
       "version_major": 2,
       "version_minor": 0
      },
      "text/plain": [
       "tokenizer_config.json:   0%|          | 0.00/215 [00:00<?, ?B/s]"
      ]
     },
     "metadata": {},
     "output_type": "display_data"
    },
    {
     "data": {
      "application/vnd.jupyter.widget-view+json": {
       "model_id": "fca7b310de824611b9545dcad1315a94",
       "version_major": 2,
       "version_minor": 0
      },
      "text/plain": [
       "config.json:   0%|          | 0.00/1.08k [00:00<?, ?B/s]"
      ]
     },
     "metadata": {},
     "output_type": "display_data"
    },
    {
     "data": {
      "application/vnd.jupyter.widget-view+json": {
       "model_id": "91ea8ec194cf434dbc24df22b5c1bc96",
       "version_major": 2,
       "version_minor": 0
      },
      "text/plain": [
       "spiece.model:   0%|          | 0.00/760k [00:00<?, ?B/s]"
      ]
     },
     "metadata": {},
     "output_type": "display_data"
    },
    {
     "data": {
      "application/vnd.jupyter.widget-view+json": {
       "model_id": "2f635c8f11ec4c3987bbee01bbdb07c7",
       "version_major": 2,
       "version_minor": 0
      },
      "text/plain": [
       "special_tokens_map.json:   0%|          | 0.00/156 [00:00<?, ?B/s]"
      ]
     },
     "metadata": {},
     "output_type": "display_data"
    },
    {
     "data": {
      "application/vnd.jupyter.widget-view+json": {
       "model_id": "b1e98410c9004426ba4353eaab380c2a",
       "version_major": 2,
       "version_minor": 0
      },
      "text/plain": [
       "pytorch_model.bin:   0%|          | 0.00/46.8M [00:00<?, ?B/s]"
      ]
     },
     "metadata": {},
     "output_type": "display_data"
    },
    {
     "name": "stderr",
     "output_type": "stream",
     "text": [
      "/home/mingcong/.local/lib/python3.11/site-packages/torch/_utils.py:831: UserWarning: TypedStorage is deprecated. It will be removed in the future and UntypedStorage will be the only storage class. This should only matter to you if you are using storages directly.  To access UntypedStorage directly, use tensor.untyped_storage() instead of tensor.storage()\n",
      "  return self.fget.__get__(instance, owner)()\n",
      "/home/mingcong/.local/lib/python3.11/site-packages/summac/model_summac.py:298: UserWarning: Creating a tensor from a list of numpy.ndarrays is extremely slow. Please consider converting the list to a single numpy.ndarray with numpy.array() before converting to a tensor. (Triggered internally at ../torch/csrc/utils/tensor_new.cpp:261.)\n",
      "  histograms = torch.FloatTensor(histograms).to(self.device)\n"
     ]
    },
    {
     "name": "stdout",
     "output_type": "stream",
     "text": [
      "0.3737916350364685\n",
      "<All keys matched successfully>\n",
      "0.3673260509967804\n",
      "<All keys matched successfully>\n",
      "0.5895997881889343\n"
     ]
    }
   ],
   "source": [
    "print(cal_summac(pred_baseline, docs))\n",
    "print(cal_summac(pred_plus_control, docs))\n",
    "print(cal_summac(pred_minus_control, docs))"
   ]
  },
  {
   "cell_type": "code",
   "execution_count": null,
   "id": "25fff11c-4e81-4ef1-9138-dcbb35c5eab8",
   "metadata": {},
   "outputs": [],
   "source": []
  }
 ],
 "metadata": {
  "kernelspec": {
   "display_name": "Python 3 (ipykernel)",
   "language": "python",
   "name": "python3"
  },
  "language_info": {
   "codemirror_mode": {
    "name": "ipython",
    "version": 3
   },
   "file_extension": ".py",
   "mimetype": "text/x-python",
   "name": "python",
   "nbconvert_exporter": "python",
   "pygments_lexer": "ipython3",
   "version": "3.11.8"
  }
 },
 "nbformat": 4,
 "nbformat_minor": 5
}
