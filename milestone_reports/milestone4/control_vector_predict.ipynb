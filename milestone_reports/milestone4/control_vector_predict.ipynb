{
 "cells": [
  {
   "cell_type": "code",
   "execution_count": 1,
   "id": "00b427ab-79fe-449b-bcd5-67465a2952a0",
   "metadata": {},
   "outputs": [],
   "source": [
    "import json\n",
    "import pandas as pd\n",
    "import torch\n",
    "from transformers import AutoModelForCausalLM, AutoTokenizer\n",
    "import dataclasses\n",
    "import numpy as np\n",
    "from repeng import ControlVector, ControlModel, DatasetEntry\n",
    "import os\n",
    "import json\n",
    "from tqdm import tqdm\n",
    "import gc\n",
    "import time\n",
    "import jsonlines"
   ]
  },
  {
   "cell_type": "code",
   "execution_count": 3,
   "id": "be68de21-4086-4925-aeba-3fb869a705a2",
   "metadata": {},
   "outputs": [
    {
     "data": {
      "text/plain": [
       "0"
      ]
     },
     "execution_count": 3,
     "metadata": {},
     "output_type": "execute_result"
    }
   ],
   "source": [
    "torch.cuda.empty_cache()\n",
    "gc.collect()\n",
    "torch.cuda.empty_cache()\n",
    "gc.collect()\n",
    "torch.cuda.empty_cache()\n",
    "gc.collect()\n",
    "torch.cuda.empty_cache()\n",
    "gc.collect()"
   ]
  },
  {
   "cell_type": "code",
   "execution_count": 2,
   "id": "b68685da-558c-47eb-840f-d64bef15eeb4",
   "metadata": {},
   "outputs": [
    {
     "name": "stderr",
     "output_type": "stream",
     "text": [
      "You have loaded an AWQ model on CPU and have a CUDA device available, make sure to set your model on a GPU device in order to run your model.\n",
      "`low_cpu_mem_usage` was None, now set to True since model is quantized.\n"
     ]
    }
   ],
   "source": [
    "model_name = \"BioMistral/BioMistral-7B-DARE-AWQ-QGS128-W4-GEMM\"\n",
    "\n",
    "tokenizer = AutoTokenizer.from_pretrained(model_name)\n",
    "tokenizer.pad_token_id = 0\n",
    "\n",
    "model = AutoModelForCausalLM.from_pretrained(model_name, torch_dtype=torch.float16)\n",
    "model = model.to(\"cuda:0\" if torch.cuda.is_available() else \"cpu\")\n",
    "#  wrap it in a ControlModel for later.\n",
    "model = ControlModel(model, list(range(-5, -18, -1)))\n",
    "\n",
    "user_tag, asst_tag = \"[INST]\", \"[/INST]\""
   ]
  },
  {
   "cell_type": "markdown",
   "id": "25993a78-7047-4550-aba6-96ee5f496308",
   "metadata": {},
   "source": [
    "Lay Summary Simplicity"
   ]
  },
  {
   "cell_type": "code",
   "execution_count": 3,
   "id": "3ec6f675-92d9-4b5b-876f-31a7873b3ef6",
   "metadata": {},
   "outputs": [
    {
     "data": {
      "text/plain": [
       "'/home/mingcong/scripts/control_vectors'"
      ]
     },
     "execution_count": 3,
     "metadata": {},
     "output_type": "execute_result"
    }
   ],
   "source": [
    "os.getcwd()"
   ]
  },
  {
   "cell_type": "code",
   "execution_count": 4,
   "id": "c5d55347-6efe-485f-aeef-6dcc437bb944",
   "metadata": {},
   "outputs": [],
   "source": [
    "with open('../../../../data/colx531/biolaysumm2024_data/eLife_test.jsonl', \"r\", encoding=\"utf-8\") as f:\n",
    "    data = [json.loads(line) for line in f]"
   ]
  },
  {
   "cell_type": "code",
   "execution_count": 5,
   "id": "2bc74aea-85c9-4373-ae50-1b6135edff36",
   "metadata": {},
   "outputs": [],
   "source": [
    "def baseline_model(doc):\n",
    "    return doc[\"sections\"][\"Abstract\"]"
   ]
  },
  {
   "cell_type": "code",
   "execution_count": 6,
   "id": "34896bf9-308a-4941-9649-64c055c28a32",
   "metadata": {},
   "outputs": [
    {
     "name": "stderr",
     "output_type": "stream",
     "text": [
      "100%|███████████████████████████████████████████████████████████████████████████████████████████████████████████████████████████████████████████████| 142/142 [00:00<00:00, 1381882.06it/s]\n"
     ]
    }
   ],
   "source": [
    "for item in data:\n",
    "    sections = item[\"article\"].split(\"\\n\")\n",
    "    item[\"sections\"] = dict(zip(item[\"headings\"], sections))\n",
    "\n",
    "abstracts = []\n",
    "for item in tqdm(data, leave=True):\n",
    "    rephrased_abstract = baseline_model(item)\n",
    "    abstracts.append({\"id\": item[\"id\"], \"prediction\": rephrased_abstract})"
   ]
  },
  {
   "cell_type": "code",
   "execution_count": 7,
   "id": "a64d7fa4-9926-4ccf-88f6-efa6220bea2a",
   "metadata": {},
   "outputs": [],
   "source": [
    "abstracts_labeled = [\"[INST]Abstract:\" + item['prediction'] + \"\\n Lay summary of abstract: [/INST]\" for item in abstracts]"
   ]
  },
  {
   "cell_type": "code",
   "execution_count": 8,
   "id": "763afa0d-2818-44f3-915f-ffed9e5beda0",
   "metadata": {},
   "outputs": [],
   "source": [
    "def make_dataset(\n",
    "    template: str,\n",
    "    positive_personas: list[str],\n",
    "    negative_personas: list[str],\n",
    "    suffix_list: list[str]\n",
    ") -> list[DatasetEntry]:\n",
    "    dataset = []\n",
    "    for suffix in suffix_list:\n",
    "        for positive_persona, negative_persona in zip(positive_personas, negative_personas):\n",
    "            positive_template = template.format(persona=positive_persona)\n",
    "            negative_template = template.format(persona=negative_persona)\n",
    "            dataset.append(\n",
    "                DatasetEntry(\n",
    "                    positive=f\"{user_tag} {positive_template} {asst_tag} {suffix}\",\n",
    "                    negative=f\"{user_tag} {negative_template} {asst_tag} {suffix}\",\n",
    "                )\n",
    "            )\n",
    "    return dataset"
   ]
  },
  {
   "cell_type": "code",
   "execution_count": 9,
   "id": "d83a80e5-1ecd-480d-97ae-229ae452c56d",
   "metadata": {},
   "outputs": [
    {
     "name": "stderr",
     "output_type": "stream",
     "text": [
      "100%|████████████████████████████████████████████████████████████████████████████████████████████████████████████████████████████████████████████████████████| 9/9 [01:10<00:00,  7.78s/it]\n",
      "100%|██████████████████████████████████████████████████████████████████████████████████████████████████████████████████████████████████████████████████████| 31/31 [00:01<00:00, 26.62it/s]\n"
     ]
    }
   ],
   "source": [
    "simple_dataset = make_dataset(\n",
    "    \"{persona}.\",\n",
    "    [\"I have an abstract from a bio-medical research paper that I would like to make more understandable for a wider audience, including those without a scientific background. Please convert the technical language into simpler terms, explain any complex concepts in a way that a layperson could understand, and provide additional background information where necessary to help clarify the relevance and significance of the research.\"],\n",
    "    [\"I have a simplified summary of findings from a bio-medical research paper that I need to be rewritten for a professional audience with a high level of expertise in this field. Please enhance the language to match the sophistication expected in a scholarly article, incorporate appropriate technical jargon.\"],\n",
    "    abstracts_labeled,\n",
    ")\n",
    "model.reset()\n",
    "simple_vector = ControlVector.train(model, tokenizer, simple_dataset)"
   ]
  },
  {
   "cell_type": "code",
   "execution_count": 11,
   "id": "14193b74-4b86-4faa-be9f-61233ac7fda0",
   "metadata": {},
   "outputs": [
    {
     "name": "stdout",
     "output_type": "stream",
     "text": [
      "gguf: This GGUF file is for Little Endian only\n"
     ]
    }
   ],
   "source": [
    "# simple_vector.export_gguf('simple_vector.gguf')"
   ]
  },
  {
   "cell_type": "code",
   "execution_count": 11,
   "id": "35b14fbc-4218-480b-beb9-3a30772c9235",
   "metadata": {},
   "outputs": [],
   "source": [
    "# # save\n",
    "# np.save(\"simple_vector.npy\", dataclasses.asdict(simple_vector))"
   ]
  },
  {
   "cell_type": "code",
   "execution_count": null,
   "id": "b419aacf-7ea9-4127-b4ba-220cd42379b1",
   "metadata": {},
   "outputs": [],
   "source": [
    "# # later...\n",
    "# v = ControlVector(**np.load(\"vector.npy\", allow_pickle=True).tolist())"
   ]
  },
  {
   "cell_type": "code",
   "execution_count": 10,
   "id": "3042ed0c-5e6a-43fd-b70c-6acdf524515d",
   "metadata": {},
   "outputs": [],
   "source": [
    "def generate_with_vector_pred(\n",
    "    input: str,\n",
    "    vector: ControlVector,\n",
    "    coeffs: float = -1,\n",
    "    max_new_tokens: int = 128,\n",
    "    repetition_penalty: float = 1.1,\n",
    "    show_baseline: bool = True,\n",
    "):\n",
    "\n",
    "    # start_time = time.time()\n",
    "    \n",
    "    if user_tag not in input:\n",
    "        input = f\"{user_tag} {input.strip()} {asst_tag}\"\n",
    "\n",
    "    input_ids = tokenizer(input, return_tensors=\"pt\").to(model.device)    \n",
    "    model.set_control(vector, coeffs)\n",
    "\n",
    "    settings = {\n",
    "        \"pad_token_id\": tokenizer.eos_token_id, # silence warning\n",
    "        \"do_sample\": True, # temperature=0\n",
    "        \"max_new_tokens\": max_new_tokens,\n",
    "        \"repetition_penalty\": repetition_penalty,\n",
    "        \"top_k\":50,\n",
    "        \"top_p\":0.95\n",
    "    }\n",
    "    outputs = model.generate(**input_ids, **settings)    \n",
    "    \n",
    "    generated_text = tokenizer.decode(outputs[0], skip_special_tokens=True)\n",
    "    prediction = generated_text[len(tokenizer.decode(input_ids['input_ids'][0], skip_special_tokens=True)):].strip()\n",
    "    \n",
    "    # end_time = time.time()\n",
    "    # print(f\"执行时间：{end_time - start_time:.4f}秒。\")\n",
    "    return prediction"
   ]
  },
  {
   "cell_type": "code",
   "execution_count": 11,
   "id": "2afb51f3-df21-4fc8-980d-d488e8dc7771",
   "metadata": {},
   "outputs": [],
   "source": [
    "data_folder = '/data/colx531/biolaysumm2024_data/'\n",
    "file_names = ['PLOS_test.jsonl', 'eLife_test.jsonl']"
   ]
  },
  {
   "cell_type": "code",
   "execution_count": 12,
   "id": "4e069a23-ce23-46f3-9471-22535187e693",
   "metadata": {},
   "outputs": [],
   "source": [
    "def check_name_in_jsonl(file_path, name_to_check):\n",
    "    with open(file_path, 'r') as file:\n",
    "        for line in file:\n",
    "            json_object = json.loads(line.strip())\n",
    "            if json_object.get('id') == name_to_check:\n",
    "                return True\n",
    "    return False"
   ]
  },
  {
   "cell_type": "code",
   "execution_count": 13,
   "id": "ce4d509e-972b-43fc-8727-08078dff7e49",
   "metadata": {},
   "outputs": [
    {
     "name": "stderr",
     "output_type": "stream",
     "text": [
      "100%|██████████████████████████████████████████████████████████████████████████████████████████████████████████████████████████████████████████████████| 142/142 [00:00<00:00, 3567.93it/s]\n"
     ]
    },
    {
     "name": "stdout",
     "output_type": "stream",
     "text": [
      "skip journal.ppat.1009789\n",
      "skip journal.pntd.0007992\n",
      "skip journal.pntd.0010704\n",
      "skip journal.ppat.1010691\n",
      "skip journal.pgen.1009815\n",
      "skip journal.pcbi.1010461\n",
      "skip journal.pcbi.1009317\n",
      "skip journal.pcbi.1010272\n",
      "skip journal.pntd.0008105\n",
      "skip journal.pcbi.1009544\n",
      "skip journal.ppat.1008577\n",
      "skip journal.pcbi.1008769\n",
      "skip journal.ppat.1008759\n",
      "skip journal.pgen.1010047\n",
      "skip journal.ppat.1009523\n",
      "skip journal.pcbi.1010007\n",
      "skip journal.pntd.0009323\n",
      "skip journal.ppat.1009313\n",
      "skip journal.ppat.1009632\n",
      "skip journal.pcbi.1008614\n",
      "skip journal.pntd.0008731\n",
      "skip journal.ppat.1008665\n",
      "skip journal.ppat.1010544\n",
      "skip journal.ppat.1009433\n",
      "skip journal.pgen.1010029\n",
      "skip journal.pntd.0009866\n",
      "skip journal.pntd.0008240\n",
      "skip journal.pntd.0010527\n",
      "skip journal.ppat.1008447\n",
      "skip journal.pgen.1009747\n",
      "skip journal.pntd.0007619\n",
      "skip journal.pntd.0009208\n",
      "skip journal.ppat.1008945\n",
      "skip journal.ppat.1009452\n",
      "skip journal.pcbi.1010213\n",
      "skip journal.pcbi.1009995\n",
      "skip journal.pcbi.1008514\n",
      "skip journal.pntd.0008847\n",
      "skip journal.pgen.1009602\n",
      "skip journal.ppat.1009432\n",
      "skip journal.pgen.1008831\n",
      "skip journal.ppat.1009396\n",
      "skip journal.pgen.1008255\n",
      "skip journal.pcbi.1010218\n",
      "skip journal.pntd.0009329\n",
      "skip journal.pgen.1008569\n",
      "skip journal.pcbi.1007757\n",
      "skip journal.pgen.1009035\n",
      "skip journal.ppat.1008380\n",
      "skip journal.ppat.1010409\n",
      "skip journal.pntd.0010431\n",
      "skip journal.ppat.1008396\n",
      "skip journal.ppat.1009526\n",
      "skip journal.pntd.0010628\n",
      "skip journal.ppat.1010589\n",
      "skip journal.pntd.0007370\n",
      "skip journal.ppat.1008604\n",
      "skip journal.pntd.0008763\n",
      "skip journal.ppat.1008215\n",
      "skip journal.pntd.0009494\n",
      "skip journal.pntd.0009374\n",
      "skip journal.pntd.0009075\n",
      "skip journal.ppat.1008879\n",
      "skip journal.pcbi.1008664\n",
      "skip journal.ppat.1010667\n",
      "skip journal.pgen.1010229\n",
      "skip journal.pcbi.1008790\n",
      "skip journal.ppat.1009427\n",
      "skip journal.pntd.0009725\n",
      "skip journal.pntd.0008560\n",
      "skip journal.pntd.0009996\n",
      "skip journal.pcbi.1007897\n",
      "skip journal.pcbi.1008615\n",
      "skip journal.pntd.0010760\n",
      "skip journal.pcbi.1009250\n",
      "skip journal.pgen.1008687\n",
      "skip journal.pcbi.1008624\n",
      "skip journal.pntd.0010094\n",
      "skip journal.ppat.1008686\n",
      "skip journal.pntd.0010477\n",
      "skip journal.pntd.0008469\n",
      "skip journal.pgen.1009092\n",
      "skip journal.ppat.1008849\n",
      "skip journal.pntd.0010908\n",
      "skip journal.pcbi.1007777\n",
      "skip journal.pcbi.1009869\n",
      "skip journal.pntd.0010204\n",
      "skip journal.pcbi.1007955\n",
      "skip journal.pntd.0009812\n",
      "skip journal.pntd.0007534\n",
      "skip journal.pcbi.1007727\n",
      "skip journal.ppat.1010163\n",
      "skip journal.pcbi.1009971\n",
      "skip journal.pcbi.1007583\n",
      "skip journal.pcbi.1008545\n",
      "skip journal.pcbi.1010505\n",
      "skip journal.pntd.0009410\n",
      "skip journal.pntd.0010388\n",
      "skip journal.pntd.0008249\n",
      "skip journal.pntd.0008899\n",
      "skip journal.pcbi.1009706\n",
      "skip journal.pntd.0008178\n",
      "skip journal.ppat.1010840\n",
      "skip journal.pbio.3001912\n",
      "skip journal.pgen.1010292\n",
      "skip journal.pcbi.1008244\n",
      "skip journal.pgen.1008942\n",
      "skip journal.ppat.1008997\n",
      "skip journal.pcbi.1008551\n",
      "skip journal.pntd.0010207\n",
      "skip journal.pcbi.1009585\n",
      "skip journal.pcbi.1007889\n",
      "skip journal.pcbi.1009997\n",
      "skip journal.pcbi.1010451\n",
      "skip journal.pntd.0010860\n",
      "skip journal.pcbi.1008410\n",
      "skip journal.pntd.0009074\n",
      "skip journal.pntd.0008974\n",
      "skip journal.pcbi.1009945\n",
      "skip journal.ppat.1010124\n",
      "skip journal.pcbi.1009972\n",
      "skip journal.pcbi.1009693\n",
      "skip journal.pntd.0007975\n",
      "skip journal.pcbi.1007588\n",
      "skip journal.pgen.1010485\n",
      "skip journal.ppat.1008106\n",
      "skip journal.pcbi.1007831\n",
      "skip journal.pgen.1009302\n",
      "skip journal.pntd.0008483\n",
      "skip journal.pntd.0009816\n",
      "skip journal.ppat.1009186\n",
      "skip journal.pcbi.1010477\n",
      "skip journal.pcbi.1009044\n",
      "skip journal.pcbi.1008265\n",
      "skip journal.ppat.1008412\n",
      "skip journal.pgen.1009015\n",
      "skip journal.pcbi.1007883\n",
      "skip journal.ppat.1008473\n",
      "skip journal.pntd.0009806\n",
      "skip journal.ppat.1009966\n",
      "skip journal.pntd.0010728\n",
      "skip journal.ppat.1010179\n"
     ]
    },
    {
     "name": "stderr",
     "output_type": "stream",
     "text": [
      "  0%|                                                                                                                                                              | 0/142 [00:00<?, ?it/s]"
     ]
    },
    {
     "name": "stdout",
     "output_type": "stream",
     "text": [
      "skip elife-81547-v1\n",
      "skip elife-86176-v2\n",
      "skip elife-82210-v1\n",
      "skip elife-83152-v2\n",
      "skip elife-83044-v2\n",
      "skip elife-81828-v2\n",
      "skip elife-85104-v2\n",
      "skip elife-84315-v2\n",
      "skip elife-77577-v2\n",
      "skip elife-81641-v2\n",
      "skip elife-83291-v2\n",
      "skip elife-77514-v3\n",
      "skip elife-79939-v2\n",
      "skip elife-77699-v2\n",
      "skip elife-79208-v2\n",
      "skip elife-75340-v2\n",
      "skip elife-81678-v2\n",
      "skip elife-78703-v2\n",
      "skip elife-76870-v2\n",
      "skip elife-79002-v1\n",
      "skip elife-85182-v2\n",
      "skip elife-77877-v1\n",
      "skip elife-90509-v1\n",
      "skip elife-80984-v2\n",
      "skip elife-78941-v2\n",
      "skip elife-78917-v1\n",
      "skip elife-78633-v2\n",
      "skip elife-80813-v1\n",
      "skip elife-79363-v2\n"
     ]
    },
    {
     "name": "stderr",
     "output_type": "stream",
     "text": [
      "100%|█████████████████████████████████████████████████████████████████████████████████████████████████████████████████████████████████████████████████| 142/142 [4:55:40<00:00, 124.94s/it]\n"
     ]
    }
   ],
   "source": [
    "for file_name in file_names:\n",
    "    with open(data_folder+file_name, 'r') as f:\n",
    "        data = [json.loads(line) for line in f]\n",
    "\n",
    "    for item in data:\n",
    "        sections = item['article'].split('\\n')\n",
    "        item['sections'] = {k: v for k, v in zip(item['headings'], sections)}\n",
    "\n",
    "    predictions = []\n",
    "\n",
    "    num_skip = 0\n",
    "    for item in tqdm(data, leave=True):\n",
    "        try:\n",
    "            is_name_present = check_name_in_jsonl(f'prediction_baseline2_BioMistral7B_{file_name.split(\".\")[0]}.jsonl', item['id'])\n",
    "            if is_name_present==True:\n",
    "                num_skip+=1\n",
    "                print(f'skip No. {num_skip}: {item[\"id\"]}')\n",
    "                continue\n",
    "        except:\n",
    "            print('first sample')\n",
    "        # Extract abstracts\n",
    "        abstract = item['sections']['Abstract']\n",
    "        prompt = f\"\"\"\n",
    "            Rephrase the following abstract from a medical paper to make it more accessible and understandable to non-expert audiences, commonly referred to as \"lay summaries\".\n",
    "            [INST]Abstract: {abstract}\n",
    "            Lay summary of abstract: [/INST]\"\"\"\n",
    "        # Rephrase abstracts\n",
    "        rephrased_abstract = generate_with_vector_pred(prompt, simple_vector, -1, max_new_tokens=2048)\n",
    "        one_prediction = [{'id': item['id'], 'prediction': rephrased_abstract}]\n",
    "        \n",
    "        with jsonlines.open(f'prediction_baseline2_BioMistral7B_{file_name.split(\".\")[0]}.jsonl', mode='a') as writer:\n",
    "            writer.write_all(one_prediction)"
   ]
  }
 ],
 "metadata": {
  "kernelspec": {
   "display_name": "Python 3 (ipykernel)",
   "language": "python",
   "name": "python3"
  },
  "language_info": {
   "codemirror_mode": {
    "name": "ipython",
    "version": 3
   },
   "file_extension": ".py",
   "mimetype": "text/x-python",
   "name": "python",
   "nbconvert_exporter": "python",
   "pygments_lexer": "ipython3",
   "version": "3.11.8"
  }
 },
 "nbformat": 4,
 "nbformat_minor": 5
}
