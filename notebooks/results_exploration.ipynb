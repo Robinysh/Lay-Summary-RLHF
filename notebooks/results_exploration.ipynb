{
 "cells": [
  {
   "cell_type": "code",
   "execution_count": null,
   "metadata": {},
   "outputs": [],
   "source": [
    "import pandas as pd\n",
    "# load files\n",
    "\n",
    "DATA_FOLDER = \"/data/colx531/biolaysumm2024_data/\"\n",
    "FILES = [\n",
    "    \"eLife_train\",\n",
    "    \"eLife_val\",\n",
    "    \"eLife_test\",\n",
    "    \"PLOS_train\",\n",
    "    \"PLOS_val\",\n",
    "    \"PLOS_test\",\n",
    "]\n",
    "\n",
    "data_dict = {}\n",
    "for i, f in enumerate(FILES):\n",
    "    file_path = DATA_FOLDER + f + \".jsonl\"\n",
    "    print(file_path)\n",
    "    data_dict[f] = pd.read_json(file_path, lines=True)"
   ]
  },
  {
   "cell_type": "code",
   "execution_count": null,
   "metadata": {},
   "outputs": [],
   "source": [
    "few_shot_lay = pd.read_json('../prediction_fewshot_BioMistral7B_PLOS_val.jsonl', lines=True)\n",
    "few_shot_lay.rename(columns={'prediction': 'few_shot_prediction'}, inplace=True)\n",
    "zero_shot_lay = pd.read_json('/data/colx531/biolaysumm2024_data/prediction_val/prediction_PLOS_val.jsonl', lines=True)\n",
    "zero_shot_lay.rename(columns={'prediction': 'zero_shot_prediction'}, inplace=True)"
   ]
  },
  {
   "cell_type": "code",
   "execution_count": null,
   "metadata": {},
   "outputs": [],
   "source": [
    "few_shot_lay"
   ]
  },
  {
   "cell_type": "code",
   "execution_count": null,
   "metadata": {},
   "outputs": [],
   "source": [
    "lay"
   ]
  },
  {
   "cell_type": "code",
   "execution_count": null,
   "metadata": {},
   "outputs": [],
   "source": [
    "data_dict['PLOS_val']['abstract'] = data_dict['PLOS_val'].article.str.split('\\n').str[0]"
   ]
  },
  {
   "cell_type": "code",
   "execution_count": null,
   "metadata": {},
   "outputs": [],
   "source": [
    "data_dict['PLOS_val'][['abstract']]"
   ]
  },
  {
   "cell_type": "code",
   "execution_count": null,
   "metadata": {},
   "outputs": [],
   "source": [
    "pd.set_option('display.max_rows', 500)\n",
    "pd.set_option('display.max_colwidth', None)\n",
    "\n",
    "\n",
    "df = data_dict['PLOS_val'].merge(few_shot_lay, how='right', on='id')\n",
    "df = df.merge(zero_shot_lay, how='left', on='id')\n",
    "df[['zero_shot_prediction', 'few_shot_prediction', 'lay_summary', 'abstract']]"
   ]
  },
  {
   "cell_type": "code",
   "execution_count": null,
   "metadata": {},
   "outputs": [],
   "source": [
    "df"
   ]
  }
 ],
 "metadata": {
  "kernelspec": {
   "display_name": "burrito",
   "language": "python",
   "name": "python3"
  },
  "language_info": {
   "codemirror_mode": {
    "name": "ipython",
    "version": 3
   },
   "file_extension": ".py",
   "mimetype": "text/x-python",
   "name": "python",
   "nbconvert_exporter": "python",
   "pygments_lexer": "ipython3",
   "version": "3.11.8"
  }
 },
 "nbformat": 4,
 "nbformat_minor": 2
}
