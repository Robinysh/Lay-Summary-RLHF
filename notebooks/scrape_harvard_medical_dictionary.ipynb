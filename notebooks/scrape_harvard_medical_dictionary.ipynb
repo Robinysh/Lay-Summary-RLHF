{
 "cells": [
  {
   "cell_type": "code",
   "execution_count": 1,
   "id": "3a55b791-fc5b-412b-b1f9-c07e0405b8fe",
   "metadata": {},
   "outputs": [],
   "source": [
    "import requests\n",
    "from bs4 import BeautifulSoup\n",
    "import json\n",
    "import time"
   ]
  },
  {
   "cell_type": "code",
   "execution_count": 2,
   "id": "eb62dfdf-f05e-4cc2-ac84-e8e3cdcf1c0d",
   "metadata": {},
   "outputs": [],
   "source": [
    "# prepare all the urls needed to be scraped\n",
    "urls = \"\"\"Browse dictionary by letter:<br><a href=\"/medical-dictionary-of-health-terms/a-through-c#A-terms\">A</a> | <a href=\"/medical-dictionary-of-health-terms/a-through-c#B-terms\">B</a> | <a href=\"/medical-dictionary-of-health-terms/a-through-c#C-terms\">C</a> | <a href=\"/medical-dictionary-of-health-terms/d-through-i#D-terms\">D</a> | <a href=\"/medical-dictionary-of-health-terms/d-through-i#E-terms\">E</a> | <a href=\"/medical-dictionary-of-health-terms/d-through-i#F-terms\">F</a> | <a href=\"/medical-dictionary-of-health-terms/d-through-i#G-terms\">G</a> | <a href=\"/medical-dictionary-of-health-terms/d-through-i#H-terms\">H</a> | <a href=\"/medical-dictionary-of-health-terms/d-through-i#I-terms\">I</a> | <a href=\"/medical-dictionary-of-health-terms/j-through-p#J-terms\">J</a> | <a href=\"/medical-dictionary-of-health-terms/j-through-p#K-terms\">K</a> | <a href=\"/medical-dictionary-of-health-terms/j-through-p#L-terms\">L</a> | <a href=\"/medical-dictionary-of-health-terms/j-through-p#M-terms\">M</a> | <a href=\"/medical-dictionary-of-health-terms/j-through-p#N-terms\">N</a> | <a href=\"/medical-dictionary-of-health-terms/j-through-p#O-terms\">O</a> | <a href=\"/medical-dictionary-of-health-terms/j-through-p#P-terms\">P</a> | <a href=\"/medical-dictionary-of-health-terms/q-through-z#Q-terms\">Q</a> | <a href=\"/medical-dictionary-of-health-terms/q-through-z#R-terms\">R</a> | <a href=\"/medical-dictionary-of-health-terms/q-through-z#S-terms\">S</a> | <a href=\"/medical-dictionary-of-health-terms/q-through-z#T-terms\">T</a> | <a href=\"/medical-dictionary-of-health-terms/q-through-z#U-terms\">U</a> | <a href=\"/medical-dictionary-of-health-terms/q-through-z#V-terms\">V</a> | <a href=\"/medical-dictionary-of-health-terms/q-through-z#W-terms\">W</a> | <a href=\"/medical-dictionary-of-health-terms/q-through-z#X-terms\">X</a> | <a href=\"/medical-dictionary-of-health-terms/q-through-z#Y-terms\">Y</a> | <a href=\"/medical-dictionary-of-health-terms/q-through-z#Z-terms\">Z</a>\"\"\"\n",
    "soup = BeautifulSoup(urls, 'html.parser')\n",
    "links = soup.find_all(\"a\", href=True)\n",
    "part_links = set()\n",
    "for link in links:\n",
    "    part_links.add(link[\"href\"].split('/')[2].split('#')[0])"
   ]
  },
  {
   "cell_type": "code",
   "execution_count": 3,
   "id": "8e93b525-0c0d-4e05-9876-02dbe4e3f957",
   "metadata": {},
   "outputs": [
    {
     "name": "stdout",
     "output_type": "stream",
     "text": [
      "Extracting j-through-p\n",
      "Previous items: 0, Current items: 539, Increases: 539\n",
      "\n",
      "Extracting a-through-c\n",
      "Previous items: 539, Current items: 1069, Increases: 530\n",
      "\n",
      "Extracting d-through-i\n",
      "Previous items: 1069, Current items: 1591, Increases: 522\n",
      "\n",
      "Extracting q-through-z\n",
      "Previous items: 1591, Current items: 2052, Increases: 461\n",
      "\n"
     ]
    }
   ],
   "source": [
    "# scrape all the terminology-explanation pairs\n",
    "terminology_pairs = {}\n",
    "root_link = \"https://www.health.harvard.edu/\"\n",
    "\n",
    "for part_link in part_links:\n",
    "    print(f\"Extracting {part_link}\")\n",
    "    start_len = (len(terminology_pairs))\n",
    "    \n",
    "    # Fetch the webpage content\n",
    "    url = root_link + part_link\n",
    "    response = requests.get(url)\n",
    "    content = response.content\n",
    "    \n",
    "    # Parse the HTML content using BeautifulSoup\n",
    "    soup = BeautifulSoup(content, 'html.parser')\n",
    "    \n",
    "    div_class = \"content-repository-content prose max-w-md-lg mx-auto flow-root getShouldDisplayAdsAttribute\"\n",
    "    target_div = soup.find(\"div\", class_=div_class)\n",
    "\n",
    "    if target_div:\n",
    "        # extract terminology-explanation pairs\n",
    "        strong_elements = target_div.find_all(\"strong\")\n",
    "        for strong in strong_elements:\n",
    "            term = strong.get_text(strip=True)\n",
    "            # exclude the \":\" at the end\n",
    "            term = term[:-1]\n",
    "            explanation = strong.next_sibling.strip()\n",
    "            terminology_pairs[term] = explanation\n",
    "\n",
    "    end_len = (len(terminology_pairs))\n",
    "    print(f\"Previous items: {start_len}, Current items: {end_len}, Increases: {end_len - start_len}\\n\")\n",
    "    time.sleep(5)"
   ]
  },
  {
   "cell_type": "code",
   "execution_count": 4,
   "id": "56f44849-5cca-4f32-9bcd-b75825dd6f4d",
   "metadata": {},
   "outputs": [],
   "source": [
    "# Save the data dictionary as a JSON file\n",
    "with open(\"harvard_medical_dictionary_test.json\", \"w\", encoding=\"utf-8\") as json_file:\n",
    "    json.dump(terminology_pairs, json_file, indent=4, ensure_ascii=False)"
   ]
  }
 ],
 "metadata": {
  "kernelspec": {
   "display_name": "Python 3 (ipykernel)",
   "language": "python",
   "name": "python3"
  },
  "language_info": {
   "codemirror_mode": {
    "name": "ipython",
    "version": 3
   },
   "file_extension": ".py",
   "mimetype": "text/x-python",
   "name": "python",
   "nbconvert_exporter": "python",
   "pygments_lexer": "ipython3",
   "version": "3.10.10"
  }
 },
 "nbformat": 4,
 "nbformat_minor": 5
}
